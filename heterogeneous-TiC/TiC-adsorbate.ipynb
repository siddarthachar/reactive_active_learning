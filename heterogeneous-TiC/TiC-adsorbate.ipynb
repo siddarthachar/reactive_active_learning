{
 "cells": [
  {
   "cell_type": "code",
   "execution_count": 1,
   "metadata": {},
   "outputs": [
    {
     "name": "stderr",
     "output_type": "stream",
     "text": [
      "/ihome/kjohnson/ska31/.local/lib/python3.9/site-packages/catkit/gen/utils/connectivity.py:4: UserWarning: A NumPy version >=1.22.4 and <1.29.0 is required for this version of SciPy (detected version 1.22.0)\n",
      "  import scipy\n",
      "2024-07-04 03:20:29.170323: I tensorflow/stream_executor/platform/default/dso_loader.cc:53] Successfully opened dynamic library libcudart.so.11.0\n"
     ]
    },
    {
     "name": "stdout",
     "output_type": "stream",
     "text": [
      "WARNING:tensorflow:From /ihome/kjohnson/ska31/.conda/envs/deepmdGPU/lib/python3.9/site-packages/tensorflow/python/compat/v2_compat.py:96: disable_resource_variables (from tensorflow.python.ops.variable_scope) is deprecated and will be removed in a future version.\n",
      "Instructions for updating:\n",
      "non-resource variables are not supported in the long term\n"
     ]
    }
   ],
   "source": [
    "from catkit.gen.surface import SlabGenerator\n",
    "from ase.build import bulk\n",
    "from ase.visualize import view\n",
    "from collections import Counter\n",
    "from ase import Atom\n",
    "from ase.io import read, write\n",
    "import numpy as np\n",
    "import matplotlib.pyplot as plt\n",
    "from deepmd.infer import DeepPot\n",
    "from deepmd.infer import calc_model_devi\n",
    "import os\n",
    "# from mp_api.client import MPRester\n",
    "# api_key='VJu07llihiS1dRqq8MPm1OT4p86jWOlc'\n",
    "from catkit.build import molecule\n",
    "from catkit.gen.adsorption import Builder\n",
    "import dpdata\n",
    "import json\n",
    "from sklearn.metrics import mean_squared_error\n",
    "import itertools\n",
    "import random\n",
    "from catkit.gen.pathways import ReactionNetwork\n",
    "from catkit.gen import molecules\n",
    "from catkit.gen.adsorption import Builder\n",
    "import networkx as nx\n",
    "from ase.utils import formula_hill\n",
    "from ase.db import connect\n",
    "from ase.optimize import BFGS\n",
    "from deepmd.calculator import DP\n",
    "from itertools import combinations_with_replacement\n",
    "from scipy.spatial.distance import cdist\n",
    "from ase import Atoms\n",
    "from scipy.spatial.distance import cdist\n",
    "from ase.geometry import get_distances"
   ]
  },
  {
   "cell_type": "code",
   "execution_count": 3,
   "metadata": {},
   "outputs": [
    {
     "name": "stdout",
     "output_type": "stream",
     "text": [
      "{4: 2, 6: 3, 2: 4, 3: 6, 7: 7}\n"
     ]
    },
    {
     "data": {
      "text/plain": [
       "{0: [1, 5, 2, 3], 1: [0, 4, 6], 4: [1]}"
      ]
     },
     "execution_count": 3,
     "metadata": {},
     "output_type": "execute_result"
    }
   ],
   "source": [
    "react = {'C': [0], 'N': [1], 'H': [2, 3, 4, 6, 7], 'O': [5]}\n",
    "prod_adjacency = {1: [0, 2, 3], 0: [1, 5, 4, 6], 5: [0, 7], 2: [1], 3: [1], 4: [0], 6: [0], 7: [5]}\n",
    "\n",
    "# Extract 'H' indices from the react dictionary\n",
    "H_indices = react['H']\n",
    "\n",
    "# # Create a mapping from old 'H' indices to new ones\n",
    "# new_index_map = {old_index: new_index for new_index, old_index in enumerate(H_indices)}\n",
    "\n",
    "new_dict = {}\n",
    "new_index_map = {}\n",
    "H_counter = 0\n",
    "for elem in sorted(prod_adjacency.keys()): # {1: [0, 2, 3], 0: [1, 5, 4, 6], 5: [0, 7], 2: [1], 3: [1], 4: [0], 6: [0], 7: [5]}\n",
    "#     print(prod_adjacency[elem])\n",
    "    for val in prod_adjacency[elem]:\n",
    "        if val in H_indices:\n",
    "            new_index_map[val] = H_indices[H_counter]\n",
    "            H_counter += 1\n",
    "print(new_index_map)\n",
    "            \n",
    "prod_new = {}\n",
    "for elem in sorted(prod_adjacency.keys()):\n",
    "    key = elem\n",
    "    if elem in H_indices:\n",
    "        key = new_index_map[elem]\n",
    "\n",
    "    value = [x if x not in H_indices else new_index_map[x] for x in prod_adjacency[elem]]\n",
    "    prod_new[key] = value\n",
    "prod_new\n",
    "\n",
    "{1: [0, 2, 3], 0: [1, 5, 4, 6], 5: [0, 7], 2: [1], 3: [1], 4: [0], 6: [0], 7: [5]}\n",
    "{4: 2, 6: 3, 2: 4, 3: 6, 7: 7}\n",
    "{key: value}\n",
    "{0: [1, 5, 2, 3], 1: [0, 4, 6], 4:[1]}\n",
    "\n",
    "# # Function to reindex adjacency list\n",
    "# def reindex_adjacency_list(adjacency_list, index_map):\n",
    "#     return [index_map.get(item, item) for item in adjacency_list]\n",
    "\n",
    "# # Create the new prod_adjacency dictionary\n",
    "# new_prod_adjacency = {}\n",
    "# for key, value in prod_adjacency.items():\n",
    "#     if key in H_indices:\n",
    "#         new_key = new_index_map[key]\n",
    "#     else:\n",
    "#         new_key = key\n",
    "#     new_value = reindex_adjacency_list(value, new_index_map)\n",
    "#     new_prod_adjacency[new_key] = new_value\n",
    "\n",
    "# # Sorting the adjacency lists\n",
    "# for key in new_prod_adjacency:\n",
    "#     new_prod_adjacency[key].sort()\n",
    "\n",
    "# print(new_prod_adjacency)\n"
   ]
  },
  {
   "cell_type": "markdown",
   "metadata": {},
   "source": [
    "### Code to generate intermediates for a given structure"
   ]
  },
  {
   "cell_type": "code",
   "execution_count": 7,
   "metadata": {},
   "outputs": [],
   "source": [
    "def intermediate_enum(db_name, element_pool):\n",
    "    with ReactionNetwork(db_name=db_name) as rn:\n",
    "        # Run a molecule search\n",
    "        rn.molecule_search(\n",
    "            element_pool={'C': 2, 'H': 6},\n",
    "            multiple_bond_search=False)\n",
    "\n",
    "    with ReactionNetwork(db_name=db_name) as rn:\n",
    "        # Substitution pathway search is expensive!\n",
    "        rn.path_search(\n",
    "            reconfiguration=False,\n",
    "            substitution=False)\n",
    "\n",
    "    #     rn.plot_reaction_network(file_name='reaction-network.png')\n",
    "    with ReactionNetwork(db_name=db_name) as rn:\n",
    "        molecules_list = rn.load_molecules()\n",
    "        pathways_list = rn.load_pathways()\n",
    "\n",
    "    all_symbols = []\n",
    "    for k, v in molecules_list.items():\n",
    "        all_symbols += [v.get_chemical_formula()]\n",
    "\n",
    "    unique_symbols = list(set(all_symbols)) # remove repeat symbols\n",
    "    tops = [molecules.get_topologies(x) for x in unique_symbols] # get all the topologies\n",
    "    return unique_symbols, tops"
   ]
  },
  {
   "cell_type": "code",
   "execution_count": 3,
   "metadata": {},
   "outputs": [],
   "source": [
    "# db_name = '/bgfs/kjohnson/ska31/6AA/reactive_active_learning/TiC-methane-coupling/molecule/ethane.db'\n",
    "# with ReactionNetwork(db_name=db_name) as rn:\n",
    "#     # Run a molecule search\n",
    "#     rn.molecule_search(\n",
    "#         element_pool={'C': 2, 'H': 6},\n",
    "#         multiple_bond_search=False)\n",
    "\n",
    "# with ReactionNetwork(db_name=db_name) as rn:\n",
    "#     # Substitution pathway search is expensive!\n",
    "#     rn.path_search(\n",
    "#         reconfiguration=False,\n",
    "#         substitution=False)\n",
    "\n",
    "# #     rn.plot_reaction_network(file_name='reaction-network.png')\n",
    "# with ReactionNetwork(db_name=db_name) as rn:\n",
    "#     molecules_list = rn.load_molecules()\n",
    "#     pathways_list = rn.load_pathways()\n",
    "    \n",
    "# all_symbols = []\n",
    "# for k, v in molecules_list.items():\n",
    "#     all_symbols += [v.get_chemical_formula()]\n",
    "    \n",
    "# unique_symbols = list(set(all_symbols)) # remove repeat symbols\n",
    "# tops = [molecules.get_topologies(x) for x in unique_symbols] # get all the topologies\n",
    "\n",
    "# interm_path = '/bgfs/kjohnson/ska31/6AA/reactive_active_learning/TiC-methane-coupling/molecule/intermediates'\n",
    "# # save all topologies to xyz files. \n",
    "# for s, t in zip(unique_symbols, tops):\n",
    "#     grat = [molecules.get_3D_positions(x) for x in t]\n",
    "#     for i, g in enumerate(grat):\n",
    "#         write(f'{interm_path}/{s}.{str(i).zfill(2)}.xyz', g)"
   ]
  },
  {
   "cell_type": "code",
   "execution_count": 6,
   "metadata": {},
   "outputs": [],
   "source": [
    "interm_path = '/bgfs/kjohnson/ska31/6AA/reactive_active_learning/TiC-methane-coupling/molecule/intermediates'\n",
    "interms = [read(f'{interm_path}/{x}') for x in os.listdir(interm_path) if 'xyz' in x]\n"
   ]
  },
  {
   "cell_type": "markdown",
   "metadata": {},
   "source": [
    "## Adsorbate on surface"
   ]
  },
  {
   "cell_type": "code",
   "execution_count": 3,
   "metadata": {},
   "outputs": [
    {
     "name": "stderr",
     "output_type": "stream",
     "text": [
      "2024-06-17 15:05:04.067475: I tensorflow/core/platform/cpu_feature_guard.cc:142] This TensorFlow binary is optimized with oneAPI Deep Neural Network Library (oneDNN) to use the following CPU instructions in performance-critical operations:  SSE4.1 SSE4.2 AVX FMA\n",
      "To enable them in other operations, rebuild TensorFlow with the appropriate compiler flags.\n",
      "2024-06-17 15:05:04.075556: W tensorflow/stream_executor/platform/default/dso_loader.cc:64] Could not load dynamic library 'libcuda.so.1'; dlerror: libcuda.so.1: cannot open shared object file: No such file or directory; LD_LIBRARY_PATH: /opt/rh/httpd24/root/usr/lib64:/opt/rh/rh-nodejs10/root/usr/lib64:/opt/rh/httpd24/root/usr/lib64\n",
      "2024-06-17 15:05:04.075597: W tensorflow/stream_executor/cuda/cuda_driver.cc:326] failed call to cuInit: UNKNOWN ERROR (303)\n",
      "2024-06-17 15:05:04.075627: I tensorflow/stream_executor/cuda/cuda_diagnostics.cc:156] kernel driver does not appear to be running on this host (jupyterhub.crc.pitt.edu): /proc/driver/nvidia/version does not exist\n",
      "2024-06-17 15:05:04.075710: I tensorflow/core/common_runtime/process_util.cc:146] Creating new thread pool with default inter op setting: 2. Tune using inter_op_parallelism_threads for best performance.\n",
      "2024-06-17 15:05:04.126626: I tensorflow/core/platform/profile_utils/cpu_utils.cc:114] CPU Frequency: 2095074999 Hz\n"
     ]
    }
   ],
   "source": [
    "## loading all gen 0 DPs\n",
    "dp_path = '/bgfs/kjohnson/ska31/6AA/reactive_active_learning/TiC-methane-coupling/gen-0/train'\n",
    "dp_paths= []\n",
    "for i in range(4):\n",
    "    dp_paths += [DeepPot(f'{dp_path}/dp{i}/graph.pb')]"
   ]
  },
  {
   "cell_type": "code",
   "execution_count": 4,
   "metadata": {},
   "outputs": [
    {
     "data": {
      "text/plain": [
       "Atoms(symbols='C64Ti64', pbc=True, cell=[[8.662875374922235, 0.0, 0.0], [6e-16, 8.662875374922235, 0.0], [0.0, 0.0, 30.16003190611391]])"
      ]
     },
     "execution_count": 4,
     "metadata": {},
     "output_type": "execute_result"
    }
   ],
   "source": [
    "# I already have a slab - all I need is to but the adsorbate on top for each of them. \n",
    "# example surface - TiC\n",
    "# TODO;\n",
    "# function that gives all possible sets of adsorbate products based on the reactant\n",
    "\n",
    "tic_s_100 = read('/bgfs/kjohnson/ska31/6AA/reactive_active_learning/TiC-methane-coupling/surface/structures/TiC/surf_100.poscar')\n",
    "tic_s_100"
   ]
  },
  {
   "cell_type": "code",
   "execution_count": 5,
   "metadata": {},
   "outputs": [
    {
     "name": "stderr",
     "output_type": "stream",
     "text": [
      "/ihome/kjohnson/ska31/.local/lib/python3.9/site-packages/catkit/gen/surface.py:105: UserWarning: Not using a standardized bulk will result in an arbitrary Miller index. To get ensure you are using the correct miller index, use standardize_bulk=True\n",
      "  warnings.warn(\n"
     ]
    },
    {
     "name": "stdout",
     "output_type": "stream",
     "text": [
      "Adsorption builder for C36Ti36 slab.\n",
      "unique adsorption sites: 4\n",
      "site connectivity: [1 1 2 4]\n",
      "unique adsorption edges: 6\n"
     ]
    },
    {
     "name": "stderr",
     "output_type": "stream",
     "text": [
      "/ihome/kjohnson/ska31/.local/lib/python3.9/site-packages/catkit/gen/adsorption.py:60: VisibleDeprecationWarning: Creating an ndarray from ragged nested sequences (which is a list-or-tuple of lists-or-tuples-or ndarrays with different lengths or shapes) is deprecated. If you meant to do this, you must specify 'dtype=object' when creating the ndarray.\n",
      "  self.r1_topology = np.array(self.r1_topology)\n",
      "/ihome/kjohnson/ska31/.local/lib/python3.9/site-packages/catkit/gen/adsorption.py:61: VisibleDeprecationWarning: Creating an ndarray from ragged nested sequences (which is a list-or-tuple of lists-or-tuples-or ndarrays with different lengths or shapes) is deprecated. If you meant to do this, you must specify 'dtype=object' when creating the ndarray.\n",
      "  self.r2_topology = np.array(self.r2_topology)\n"
     ]
    }
   ],
   "source": [
    "bulk_path = '/bgfs/kjohnson/ska31/6AA/reactive_active_learning/TiC-methane-coupling/bulk/structures/TiC.poscar'\n",
    "atoms = read(bulk_path)\n",
    "atoms = atoms.repeat([3,3,1])\n",
    "gen = SlabGenerator(\n",
    "    atoms,\n",
    "    miller_index=(1, 0, 0),\n",
    "    layers=8,\n",
    "    fixed=2,\n",
    "    vacuum=7.5)\n",
    "slab = gen.get_slab().repeat([3,3,1])\n",
    "builder = Builder(slab)\n",
    "print(builder)"
   ]
  },
  {
   "cell_type": "code",
   "execution_count": 6,
   "metadata": {},
   "outputs": [],
   "source": [
    "# adsorbate = molecule('C2H6')\n",
    "# adsorbate[0].get_chemical_symbols() # 01"
   ]
  },
  {
   "cell_type": "code",
   "execution_count": 20,
   "metadata": {},
   "outputs": [],
   "source": [
    "adsorbate = molecule('C2H3')\n",
    "adsorbate_2 = molecule('H')\n",
    "\n",
    "ads_slab = builder.add_adsorbate(adsorbate[1], index = -1, bonds=[0,1]) # index = index of the site (there are 6 edges)\n",
    "\n",
    "# bonds = index of adsorbate atoms to be bonded. There are three atoms. "
   ]
  },
  {
   "cell_type": "code",
   "execution_count": 34,
   "metadata": {},
   "outputs": [],
   "source": [
    "adsorbate[0].set_tags([-1, 0, 0, 0, 0])\n",
    "# np.where(adsorbate[0].get_tags() == -1)[0][0]\n",
    "for i, a in enumerate(adsorbate):\n",
    "    tags = adsorbate[i].get_tags()\n",
    "    adsorbate[i].set_tags([-1, 0, 0, 0, 0])"
   ]
  },
  {
   "cell_type": "code",
   "execution_count": 36,
   "metadata": {},
   "outputs": [],
   "source": [
    "ads_slab = builder.add_adsorbates(adsorbate, indices=[0,1]) # index = index of the site (there are 6 edges)"
   ]
  },
  {
   "cell_type": "code",
   "execution_count": 37,
   "metadata": {},
   "outputs": [
    {
     "data": {
      "text/plain": [
       "Gratoms(symbols='C40H6Ti36', pbc=[True, True, False], cell=[9.188366883272199, 9.1883668832722, 21.497156531191678], initial_magmoms=..., surface_atoms=..., tags=..., constraint=FixAtoms(indices=[0, 1, 2, 3, 8, 9, 10, 11, 16, 17, 18, 19, 24, 25, 26, 27, 32, 33, 34, 35, 40, 41, 42, 43, 48, 49, 50, 51, 56, 57, 58, 59, 64, 65, 66, 67]))"
      ]
     },
     "execution_count": 37,
     "metadata": {},
     "output_type": "execute_result"
    }
   ],
   "source": [
    "ads_slab"
   ]
  },
  {
   "cell_type": "code",
   "execution_count": 38,
   "metadata": {},
   "outputs": [],
   "source": [
    "# builder\n",
    "write('/bgfs/kjohnson/ska31/6AA/reactive_active_learning/TiC-methane-coupling/reaction/test/2.poscar',ads_slab,sort=True)"
   ]
  },
  {
   "cell_type": "code",
   "execution_count": 59,
   "metadata": {},
   "outputs": [],
   "source": [
    "a=read('/bgfs/kjohnson/ska31/6AA/reactive_active_learning/TiC-methane-coupling/reaction/test/2.poscar')"
   ]
  },
  {
   "cell_type": "code",
   "execution_count": 60,
   "metadata": {},
   "outputs": [],
   "source": [
    "a.calc=DP(model=f'{dp_path}/dp0/graph.pb')"
   ]
  },
  {
   "cell_type": "code",
   "execution_count": 2,
   "metadata": {},
   "outputs": [
    {
     "ename": "AttributeError",
     "evalue": "module 'numpy' has no attribute 'randint'",
     "output_type": "error",
     "traceback": [
      "\u001b[0;31m---------------------------------------------------------------------------\u001b[0m",
      "\u001b[0;31mAttributeError\u001b[0m                            Traceback (most recent call last)",
      "Cell \u001b[0;32mIn[2], line 1\u001b[0m\n\u001b[0;32m----> 1\u001b[0m \u001b[43mnp\u001b[49m\u001b[38;5;241;43m.\u001b[39;49m\u001b[43mrandint\u001b[49m(\u001b[38;5;241m0\u001b[39m,\u001b[38;5;241m4\u001b[39m)\n",
      "File \u001b[0;32m~/.conda/envs/deepmdGPU/lib/python3.9/site-packages/numpy/__init__.py:315\u001b[0m, in \u001b[0;36m__getattr__\u001b[0;34m(attr)\u001b[0m\n\u001b[1;32m    312\u001b[0m     \u001b[38;5;28;01mfrom\u001b[39;00m \u001b[38;5;21;01m.\u001b[39;00m\u001b[38;5;21;01mtesting\u001b[39;00m \u001b[38;5;28;01mimport\u001b[39;00m Tester\n\u001b[1;32m    313\u001b[0m     \u001b[38;5;28;01mreturn\u001b[39;00m Tester\n\u001b[0;32m--> 315\u001b[0m \u001b[38;5;28;01mraise\u001b[39;00m \u001b[38;5;167;01mAttributeError\u001b[39;00m(\u001b[38;5;124m\"\u001b[39m\u001b[38;5;124mmodule \u001b[39m\u001b[38;5;132;01m{!r}\u001b[39;00m\u001b[38;5;124m has no attribute \u001b[39m\u001b[38;5;124m\"\u001b[39m\n\u001b[1;32m    316\u001b[0m                      \u001b[38;5;124m\"\u001b[39m\u001b[38;5;132;01m{!r}\u001b[39;00m\u001b[38;5;124m\"\u001b[39m\u001b[38;5;241m.\u001b[39mformat(\u001b[38;5;18m__name__\u001b[39m, attr))\n",
      "\u001b[0;31mAttributeError\u001b[0m: module 'numpy' has no attribute 'randint'"
     ]
    }
   ],
   "source": [
    "np.randint(0,4)"
   ]
  },
  {
   "cell_type": "code",
   "execution_count": 2,
   "metadata": {},
   "outputs": [],
   "source": [
    "dyn = BFGS(a)\n",
    "dyn.run(fmax=1e-6)\n",
    "# print(water.get_positions()"
   ]
  },
  {
   "cell_type": "code",
   "execution_count": 62,
   "metadata": {},
   "outputs": [],
   "source": [
    "write('/bgfs/kjohnson/ska31/6AA/reactive_active_learning/TiC-methane-coupling/reaction/test/2-opt.poscar',a)"
   ]
  },
  {
   "cell_type": "code",
   "execution_count": null,
   "metadata": {},
   "outputs": [],
   "source": []
  },
  {
   "cell_type": "markdown",
   "metadata": {},
   "source": [
    "## Reaction and product structure finding"
   ]
  },
  {
   "cell_type": "code",
   "execution_count": 8,
   "metadata": {},
   "outputs": [],
   "source": [
    "# We need to sample all possible product degredation reactions with all the intermediates we have\n",
    "# need to start with C2H6 and CH4\n",
    "db_name = '/bgfs/kjohnson/ska31/6AA/reactive_active_learning/TiC-methane-coupling/molecule/ethane.db'\n",
    "sym, tops = intermediate_enum(db_name, {'C':2, 'H':6})\n",
    "# all the intermediates for C2H6 - we need the symbol"
   ]
  },
  {
   "cell_type": "code",
   "execution_count": 9,
   "metadata": {},
   "outputs": [],
   "source": [
    "c2h6 = molecule('C2H6')[0]"
   ]
  },
  {
   "cell_type": "code",
   "execution_count": 10,
   "metadata": {},
   "outputs": [],
   "source": [
    "c2h6_s = c2h6.get_chemical_symbols()\n",
    "c2h6_sc = Counter(c2h6_s)\n",
    "int_s = [Counter(t[0].get_chemical_symbols()) for t in tops] # get all the dict for each symbol (interm.)"
   ]
  },
  {
   "cell_type": "code",
   "execution_count": 11,
   "metadata": {},
   "outputs": [
    {
     "data": {
      "text/plain": [
       "[Counter({'C': 2, 'H': 2}),\n",
       " Counter({'H': 1}),\n",
       " Counter({'C': 2, 'H': 6}),\n",
       " Counter({'C': 1, 'H': 1}),\n",
       " Counter({'H': 2}),\n",
       " Counter({'C': 2, 'H': 4}),\n",
       " Counter({'C': 1, 'H': 2}),\n",
       " Counter({'C': 2, 'H': 3}),\n",
       " Counter({'C': 1}),\n",
       " Counter({'C': 1, 'H': 3}),\n",
       " Counter({'C': 2}),\n",
       " Counter({'C': 1, 'H': 4}),\n",
       " Counter({'C': 2, 'H': 1}),\n",
       " Counter({'C': 2, 'H': 5})]"
      ]
     },
     "execution_count": 11,
     "metadata": {},
     "output_type": "execute_result"
    }
   ],
   "source": [
    "int_s"
   ]
  },
  {
   "cell_type": "code",
   "execution_count": 7,
   "metadata": {},
   "outputs": [],
   "source": [
    "# int_s[1]['C']\n",
    "# int_s\n",
    "# [s.values()]"
   ]
  },
  {
   "cell_type": "code",
   "execution_count": 8,
   "metadata": {},
   "outputs": [],
   "source": [
    "# for x in combinations_with_replacement(intermediate_counters, 5):\n",
    "#     print(sum(x, Counter()))\n",
    "# sum(target_counter.values())"
   ]
  },
  {
   "cell_type": "code",
   "execution_count": 13,
   "metadata": {},
   "outputs": [
    {
     "name": "stdout",
     "output_type": "stream",
     "text": [
      "[Counter({'H': 1}), Counter({'H': 5, 'C': 2})]\n",
      "[Counter({'H': 4, 'C': 1}), Counter({'H': 2, 'C': 1})]\n",
      "[Counter({'H': 4, 'C': 2}), Counter({'H': 2})]\n",
      "[Counter({'H': 3, 'C': 1}), Counter({'H': 3, 'C': 1})]\n",
      "[Counter({'C': 1, 'H': 1}), Counter({'H': 1}), Counter({'H': 4, 'C': 1})]\n",
      "[Counter({'C': 1, 'H': 1}), Counter({'H': 3, 'C': 1}), Counter({'H': 2})]\n",
      "[Counter({'H': 1}), Counter({'H': 1}), Counter({'H': 4, 'C': 2})]\n",
      "[Counter({'H': 1}), Counter({'H': 3, 'C': 2}), Counter({'H': 2})]\n",
      "[Counter({'H': 1}), Counter({'H': 3, 'C': 1}), Counter({'H': 2, 'C': 1})]\n",
      "[Counter({'H': 4, 'C': 1}), Counter({'C': 1}), Counter({'H': 2})]\n",
      "[Counter({'H': 2, 'C': 1}), Counter({'H': 2, 'C': 1}), Counter({'H': 2})]\n",
      "[Counter({'H': 2}), Counter({'H': 2}), Counter({'C': 2, 'H': 2})]\n",
      "[Counter({'C': 1, 'H': 1}), Counter({'C': 1, 'H': 1}), Counter({'H': 2}), Counter({'H': 2})]\n",
      "[Counter({'C': 1, 'H': 1}), Counter({'H': 1}), Counter({'H': 1}), Counter({'H': 3, 'C': 1})]\n",
      "[Counter({'C': 1, 'H': 1}), Counter({'H': 1}), Counter({'H': 2, 'C': 1}), Counter({'H': 2})]\n",
      "[Counter({'H': 1}), Counter({'H': 1}), Counter({'H': 1}), Counter({'H': 3, 'C': 2})]\n",
      "[Counter({'H': 1}), Counter({'H': 1}), Counter({'H': 4, 'C': 1}), Counter({'C': 1})]\n",
      "[Counter({'H': 1}), Counter({'H': 1}), Counter({'H': 2, 'C': 1}), Counter({'H': 2, 'C': 1})]\n",
      "[Counter({'H': 1}), Counter({'H': 1}), Counter({'H': 2}), Counter({'C': 2, 'H': 2})]\n",
      "[Counter({'H': 1}), Counter({'C': 1}), Counter({'H': 3, 'C': 1}), Counter({'H': 2})]\n",
      "[Counter({'H': 1}), Counter({'C': 2, 'H': 1}), Counter({'H': 2}), Counter({'H': 2})]\n",
      "[Counter({'C': 2}), Counter({'H': 2}), Counter({'H': 2}), Counter({'H': 2})]\n",
      "[Counter({'C': 1}), Counter({'H': 2, 'C': 1}), Counter({'H': 2}), Counter({'H': 2})]\n",
      "[Counter({'C': 1, 'H': 1}), Counter({'C': 1, 'H': 1}), Counter({'H': 1}), Counter({'H': 1}), Counter({'H': 2})]\n",
      "[Counter({'C': 1, 'H': 1}), Counter({'H': 1}), Counter({'H': 1}), Counter({'H': 1}), Counter({'H': 2, 'C': 1})]\n",
      "[Counter({'C': 1, 'H': 1}), Counter({'H': 1}), Counter({'C': 1}), Counter({'H': 2}), Counter({'H': 2})]\n",
      "[Counter({'H': 1}), Counter({'H': 1}), Counter({'H': 1}), Counter({'H': 1}), Counter({'C': 2, 'H': 2})]\n",
      "[Counter({'H': 1}), Counter({'H': 1}), Counter({'H': 1}), Counter({'C': 1}), Counter({'H': 3, 'C': 1})]\n",
      "[Counter({'H': 1}), Counter({'H': 1}), Counter({'H': 1}), Counter({'C': 2, 'H': 1}), Counter({'H': 2})]\n",
      "[Counter({'H': 1}), Counter({'H': 1}), Counter({'C': 2}), Counter({'H': 2}), Counter({'H': 2})]\n",
      "[Counter({'H': 1}), Counter({'H': 1}), Counter({'C': 1}), Counter({'H': 2, 'C': 1}), Counter({'H': 2})]\n",
      "[Counter({'C': 1}), Counter({'C': 1}), Counter({'H': 2}), Counter({'H': 2}), Counter({'H': 2})]\n",
      "[Counter({'C': 1, 'H': 1}), Counter({'C': 1, 'H': 1}), Counter({'H': 1}), Counter({'H': 1}), Counter({'H': 1}), Counter({'H': 1})]\n",
      "[Counter({'C': 1, 'H': 1}), Counter({'H': 1}), Counter({'H': 1}), Counter({'H': 1}), Counter({'C': 1}), Counter({'H': 2})]\n",
      "[Counter({'H': 1}), Counter({'H': 1}), Counter({'H': 1}), Counter({'H': 1}), Counter({'H': 1}), Counter({'C': 2, 'H': 1})]\n",
      "[Counter({'H': 1}), Counter({'H': 1}), Counter({'H': 1}), Counter({'H': 1}), Counter({'C': 2}), Counter({'H': 2})]\n",
      "[Counter({'H': 1}), Counter({'H': 1}), Counter({'H': 1}), Counter({'H': 1}), Counter({'C': 1}), Counter({'H': 2, 'C': 1})]\n",
      "[Counter({'H': 1}), Counter({'H': 1}), Counter({'C': 1}), Counter({'C': 1}), Counter({'H': 2}), Counter({'H': 2})]\n",
      "[Counter({'C': 1, 'H': 1}), Counter({'H': 1}), Counter({'H': 1}), Counter({'H': 1}), Counter({'H': 1}), Counter({'H': 1}), Counter({'C': 1})]\n",
      "[Counter({'H': 1}), Counter({'H': 1}), Counter({'H': 1}), Counter({'H': 1}), Counter({'H': 1}), Counter({'H': 1}), Counter({'C': 2})]\n",
      "[Counter({'H': 1}), Counter({'H': 1}), Counter({'H': 1}), Counter({'H': 1}), Counter({'C': 1}), Counter({'C': 1}), Counter({'H': 2})]\n",
      "[Counter({'H': 1}), Counter({'H': 1}), Counter({'H': 1}), Counter({'H': 1}), Counter({'H': 1}), Counter({'H': 1}), Counter({'C': 1}), Counter({'C': 1})]\n"
     ]
    }
   ],
   "source": [
    "def find_combinations(target, counters):\n",
    "    total_atoms = sum(target.values())\n",
    "    combos_list = []\n",
    "    for r in range(1, total_atoms + 1):\n",
    "        for combo in combinations_with_replacement(counters, r):\n",
    "#             print(combo)\n",
    "            current = sum(combo, Counter())\n",
    "            if current == target:\n",
    "                print(list(combo)) # convert to string here and return list of list of strings.\n",
    "                combos_list += [list(combo)]\n",
    "\n",
    "    return combos_list\n",
    "                \n",
    "\n",
    "target_counter = Counter({'C': 2, 'H': 6})\n",
    "intermediate_counters = [\n",
    "    Counter({'C': 1, 'H': 1}),\n",
    "    Counter({'H': 1}),\n",
    "    Counter({'C': 2, 'H': 3}),\n",
    "    Counter({'C': 1, 'H': 4}),\n",
    "    Counter({'C': 2}),\n",
    "    Counter({'C': 1}),\n",
    "    Counter({'C': 2, 'H': 4}),\n",
    "    Counter({'C': 1, 'H': 3}),\n",
    "    Counter({'C': 1, 'H': 2}),\n",
    "    Counter({'C': 2, 'H': 1}),\n",
    "    Counter({'H': 2}),\n",
    "    Counter({'C': 2, 'H': 5}),\n",
    "    Counter({'C': 2, 'H': 2}),\n",
    "]\n",
    "\n",
    "combos_list = find_combinations(target_counter, intermediate_counters)"
   ]
  },
  {
   "cell_type": "code",
   "execution_count": 14,
   "metadata": {},
   "outputs": [
    {
     "name": "stdout",
     "output_type": "stream",
     "text": [
      "[Counter({'H': 6, 'C': 2})]\n",
      "[Counter({'H': 1}), Counter({'H': 5, 'C': 2})]\n",
      "[Counter({'H': 2}), Counter({'H': 4, 'C': 2})]\n",
      "[Counter({'H': 2, 'C': 1}), Counter({'H': 4, 'C': 1})]\n",
      "[Counter({'H': 3, 'C': 1}), Counter({'H': 3, 'C': 1})]\n",
      "[Counter({'C': 2, 'H': 2}), Counter({'H': 2}), Counter({'H': 2})]\n",
      "[Counter({'H': 1}), Counter({'H': 1}), Counter({'H': 4, 'C': 2})]\n",
      "[Counter({'H': 1}), Counter({'C': 1, 'H': 1}), Counter({'H': 4, 'C': 1})]\n",
      "[Counter({'H': 1}), Counter({'H': 2}), Counter({'H': 3, 'C': 2})]\n",
      "[Counter({'H': 1}), Counter({'H': 2, 'C': 1}), Counter({'H': 3, 'C': 1})]\n",
      "[Counter({'C': 1, 'H': 1}), Counter({'H': 2}), Counter({'H': 3, 'C': 1})]\n",
      "[Counter({'H': 2}), Counter({'H': 2, 'C': 1}), Counter({'H': 2, 'C': 1})]\n",
      "[Counter({'H': 2}), Counter({'C': 1}), Counter({'H': 4, 'C': 1})]\n",
      "[Counter({'C': 2, 'H': 2}), Counter({'H': 1}), Counter({'H': 1}), Counter({'H': 2})]\n",
      "[Counter({'H': 1}), Counter({'H': 1}), Counter({'H': 1}), Counter({'H': 3, 'C': 2})]\n",
      "[Counter({'H': 1}), Counter({'H': 1}), Counter({'C': 1, 'H': 1}), Counter({'H': 3, 'C': 1})]\n",
      "[Counter({'H': 1}), Counter({'H': 1}), Counter({'H': 2, 'C': 1}), Counter({'H': 2, 'C': 1})]\n",
      "[Counter({'H': 1}), Counter({'H': 1}), Counter({'C': 1}), Counter({'H': 4, 'C': 1})]\n",
      "[Counter({'H': 1}), Counter({'C': 1, 'H': 1}), Counter({'H': 2}), Counter({'H': 2, 'C': 1})]\n",
      "[Counter({'H': 1}), Counter({'H': 2}), Counter({'H': 2}), Counter({'C': 2, 'H': 1})]\n",
      "[Counter({'H': 1}), Counter({'H': 2}), Counter({'C': 1}), Counter({'H': 3, 'C': 1})]\n",
      "[Counter({'C': 1, 'H': 1}), Counter({'C': 1, 'H': 1}), Counter({'H': 2}), Counter({'H': 2})]\n",
      "[Counter({'H': 2}), Counter({'H': 2}), Counter({'H': 2}), Counter({'C': 2})]\n",
      "[Counter({'H': 2}), Counter({'H': 2}), Counter({'H': 2, 'C': 1}), Counter({'C': 1})]\n",
      "[Counter({'C': 2, 'H': 2}), Counter({'H': 1}), Counter({'H': 1}), Counter({'H': 1}), Counter({'H': 1})]\n",
      "[Counter({'H': 1}), Counter({'H': 1}), Counter({'H': 1}), Counter({'C': 1, 'H': 1}), Counter({'H': 2, 'C': 1})]\n",
      "[Counter({'H': 1}), Counter({'H': 1}), Counter({'H': 1}), Counter({'H': 2}), Counter({'C': 2, 'H': 1})]\n",
      "[Counter({'H': 1}), Counter({'H': 1}), Counter({'H': 1}), Counter({'C': 1}), Counter({'H': 3, 'C': 1})]\n",
      "[Counter({'H': 1}), Counter({'H': 1}), Counter({'C': 1, 'H': 1}), Counter({'C': 1, 'H': 1}), Counter({'H': 2})]\n",
      "[Counter({'H': 1}), Counter({'H': 1}), Counter({'H': 2}), Counter({'H': 2}), Counter({'C': 2})]\n",
      "[Counter({'H': 1}), Counter({'H': 1}), Counter({'H': 2}), Counter({'H': 2, 'C': 1}), Counter({'C': 1})]\n",
      "[Counter({'H': 1}), Counter({'C': 1, 'H': 1}), Counter({'H': 2}), Counter({'H': 2}), Counter({'C': 1})]\n",
      "[Counter({'H': 2}), Counter({'H': 2}), Counter({'H': 2}), Counter({'C': 1}), Counter({'C': 1})]\n",
      "[Counter({'H': 1}), Counter({'H': 1}), Counter({'H': 1}), Counter({'H': 1}), Counter({'H': 1}), Counter({'C': 2, 'H': 1})]\n",
      "[Counter({'H': 1}), Counter({'H': 1}), Counter({'H': 1}), Counter({'H': 1}), Counter({'C': 1, 'H': 1}), Counter({'C': 1, 'H': 1})]\n",
      "[Counter({'H': 1}), Counter({'H': 1}), Counter({'H': 1}), Counter({'H': 1}), Counter({'H': 2}), Counter({'C': 2})]\n",
      "[Counter({'H': 1}), Counter({'H': 1}), Counter({'H': 1}), Counter({'H': 1}), Counter({'H': 2, 'C': 1}), Counter({'C': 1})]\n",
      "[Counter({'H': 1}), Counter({'H': 1}), Counter({'H': 1}), Counter({'C': 1, 'H': 1}), Counter({'H': 2}), Counter({'C': 1})]\n",
      "[Counter({'H': 1}), Counter({'H': 1}), Counter({'H': 2}), Counter({'H': 2}), Counter({'C': 1}), Counter({'C': 1})]\n",
      "[Counter({'H': 1}), Counter({'H': 1}), Counter({'H': 1}), Counter({'H': 1}), Counter({'H': 1}), Counter({'H': 1}), Counter({'C': 2})]\n",
      "[Counter({'H': 1}), Counter({'H': 1}), Counter({'H': 1}), Counter({'H': 1}), Counter({'H': 1}), Counter({'C': 1, 'H': 1}), Counter({'C': 1})]\n",
      "[Counter({'H': 1}), Counter({'H': 1}), Counter({'H': 1}), Counter({'H': 1}), Counter({'H': 2}), Counter({'C': 1}), Counter({'C': 1})]\n",
      "[Counter({'H': 1}), Counter({'H': 1}), Counter({'H': 1}), Counter({'H': 1}), Counter({'H': 1}), Counter({'H': 1}), Counter({'C': 1}), Counter({'C': 1})]\n"
     ]
    }
   ],
   "source": [
    "combos_list = find_combinations(target_counter, int_s)"
   ]
  },
  {
   "cell_type": "code",
   "execution_count": 10,
   "metadata": {},
   "outputs": [
    {
     "name": "stdout",
     "output_type": "stream",
     "text": [
      "[['H', 'C2H5'], ['CH4', 'CH2'], ['C2H4', 'H2'], ['CH3', 'CH3'], ['CH', 'H', 'CH4'], ['CH', 'CH3', 'H2'], ['H', 'H', 'C2H4'], ['H', 'C2H3', 'H2'], ['H', 'CH3', 'CH2'], ['CH4', 'C', 'H2'], ['CH2', 'CH2', 'H2'], ['H2', 'H2', 'C2H2'], ['CH', 'CH', 'H2', 'H2'], ['CH', 'H', 'H', 'CH3'], ['CH', 'H', 'CH2', 'H2'], ['H', 'H', 'H', 'C2H3'], ['H', 'H', 'CH4', 'C'], ['H', 'H', 'CH2', 'CH2'], ['H', 'H', 'H2', 'C2H2'], ['H', 'C', 'CH3', 'H2'], ['H', 'C2H', 'H2', 'H2'], ['C2', 'H2', 'H2', 'H2'], ['C', 'CH2', 'H2', 'H2'], ['CH', 'CH', 'H', 'H', 'H2'], ['CH', 'H', 'H', 'H', 'CH2'], ['CH', 'H', 'C', 'H2', 'H2'], ['H', 'H', 'H', 'H', 'C2H2'], ['H', 'H', 'H', 'C', 'CH3'], ['H', 'H', 'H', 'C2H', 'H2'], ['H', 'H', 'C2', 'H2', 'H2'], ['H', 'H', 'C', 'CH2', 'H2'], ['C', 'C', 'H2', 'H2', 'H2'], ['CH', 'CH', 'H', 'H', 'H', 'H'], ['CH', 'H', 'H', 'H', 'C', 'H2'], ['H', 'H', 'H', 'H', 'H', 'C2H'], ['H', 'H', 'H', 'H', 'C2', 'H2'], ['H', 'H', 'H', 'H', 'C', 'CH2'], ['H', 'H', 'C', 'C', 'H2', 'H2'], ['CH', 'H', 'H', 'H', 'H', 'H', 'C'], ['H', 'H', 'H', 'H', 'H', 'H', 'C2'], ['H', 'H', 'H', 'H', 'C', 'C', 'H2'], ['H', 'H', 'H', 'H', 'H', 'H', 'C', 'C']]\n"
     ]
    }
   ],
   "source": [
    "# [f'{x['H']}' for x in combos_list[0]]\n",
    "def get_formula_from_counter(x, elem_order):\n",
    "    p=''\n",
    "    for e in elem_order:\n",
    "        cnt = x[e]\n",
    "        if cnt == 1:\n",
    "            toadd = str(e)\n",
    "        elif cnt == 0:\n",
    "            continue \n",
    "        else:\n",
    "            toadd = f'{e}{cnt}'\n",
    "        p += toadd\n",
    "    return p\n",
    "\n",
    "# 'C'+str(combos_list[0][0]['C'])+'H'+str(combos_list[0][0]['H'])\n",
    "mols = []\n",
    "for x in combos_list:\n",
    "    mols.append([get_formula_from_counter(y, ['C','H']) for y in x])\n",
    "print(mols)\n",
    "# get_formula_from_counter(combos_list[0][1], ['C','H'])"
   ]
  },
  {
   "cell_type": "code",
   "execution_count": 11,
   "metadata": {},
   "outputs": [
    {
     "name": "stderr",
     "output_type": "stream",
     "text": [
      "/ihome/kjohnson/ska31/.local/lib/python3.9/site-packages/catkit/gen/surface.py:105: UserWarning: Not using a standardized bulk will result in an arbitrary Miller index. To get ensure you are using the correct miller index, use standardize_bulk=True\n",
      "  warnings.warn(\n",
      "/ihome/kjohnson/ska31/.local/lib/python3.9/site-packages/catkit/gen/adsorption.py:60: VisibleDeprecationWarning: Creating an ndarray from ragged nested sequences (which is a list-or-tuple of lists-or-tuples-or ndarrays with different lengths or shapes) is deprecated. If you meant to do this, you must specify 'dtype=object' when creating the ndarray.\n",
      "  self.r1_topology = np.array(self.r1_topology)\n",
      "/ihome/kjohnson/ska31/.local/lib/python3.9/site-packages/catkit/gen/adsorption.py:61: VisibleDeprecationWarning: Creating an ndarray from ragged nested sequences (which is a list-or-tuple of lists-or-tuples-or ndarrays with different lengths or shapes) is deprecated. If you meant to do this, you must specify 'dtype=object' when creating the ndarray.\n",
      "  self.r2_topology = np.array(self.r2_topology)\n"
     ]
    },
    {
     "data": {
      "text/plain": [
       "6"
      ]
     },
     "execution_count": 11,
     "metadata": {},
     "output_type": "execute_result"
    }
   ],
   "source": [
    "# Adding indiv molecules\n",
    "bulk_path = '/bgfs/kjohnson/ska31/6AA/reactive_active_learning/TiC-methane-coupling/bulk/structures/TiC.poscar'\n",
    "atoms = read(bulk_path)\n",
    "atoms = atoms.repeat([3,3,1])\n",
    "gen = SlabGenerator(\n",
    "    atoms,\n",
    "    miller_index=(1, 0, 0),\n",
    "    layers=8,\n",
    "    fixed=2,\n",
    "    vacuum=7.5)\n",
    "slab = gen.get_slab().repeat([3,3,1])\n",
    "builder = Builder(slab)\n",
    "len(builder.get_adsorption_edges()) # use only the length of edges"
   ]
  },
  {
   "cell_type": "code",
   "execution_count": 17,
   "metadata": {},
   "outputs": [],
   "source": [
    "# mols_update[0].get_tags()\n",
    "# mol_obj, mol_"
   ]
  },
  {
   "cell_type": "code",
   "execution_count": 49,
   "metadata": {},
   "outputs": [
    {
     "name": "stderr",
     "output_type": "stream",
     "text": [
      "/ihome/kjohnson/ska31/.local/lib/python3.9/site-packages/catkit/gen/adsorption.py:60: VisibleDeprecationWarning: Creating an ndarray from ragged nested sequences (which is a list-or-tuple of lists-or-tuples-or ndarrays with different lengths or shapes) is deprecated. If you meant to do this, you must specify 'dtype=object' when creating the ndarray.\n",
      "  self.r1_topology = np.array(self.r1_topology)\n",
      "/ihome/kjohnson/ska31/.local/lib/python3.9/site-packages/catkit/gen/adsorption.py:61: VisibleDeprecationWarning: Creating an ndarray from ragged nested sequences (which is a list-or-tuple of lists-or-tuples-or ndarrays with different lengths or shapes) is deprecated. If you meant to do this, you must specify 'dtype=object' when creating the ndarray.\n",
      "  self.r2_topology = np.array(self.r2_topology)\n"
     ]
    }
   ],
   "source": [
    "# testing for mol set 0\n",
    "# adsorbate[0].set_tags([-1, 0, 0, 0, 0])\n",
    "# np.where(adsorbate[0].get_tags() == -1)[0][0]\n",
    "# for i, a in enumerate(mols[0]):\n",
    "#     tags = adsorbate[i].get_tags()\n",
    "#     adsorbate[i].set_tags([-1, 0, 0, 0, 0])\n",
    "\n",
    "def set_tags_random(x):\n",
    "    tags = x.get_tags()\n",
    "    pick = random.randrange(len(tags))\n",
    "    tags[pick] = -1\n",
    "    x.set_tags(tags)\n",
    "    return x\n",
    "\n",
    "save_adsorbates = '/bgfs/kjohnson/ska31/6AA/reactive_active_learning/TiC-methane-coupling/reaction/test/add_adsorbates'\n",
    "\n",
    "for i, mol in enumerate(mols):\n",
    "    mol_obj = [molecule(x)[0] for x in mol]\n",
    "    tags = [x.get_tags() for x in mol_obj]\n",
    "    # randomly set one of the atoms to be -1 and see if it can be adsorbed on the site\n",
    "    mols_update = [set_tags_random(x) for x in mol_obj]\n",
    "    builder = Builder(slab) # make new slab\n",
    "    ads_slab = builder.add_adsorbates(mols_update, indices = list(np.arange(len(mols_update))))\n",
    "#     break\n",
    "    write(f'{save_adsorbates}/ads-{i}.poscar',ads_slab, sort = False)\n",
    "#     break"
   ]
  },
  {
   "cell_type": "code",
   "execution_count": 48,
   "metadata": {},
   "outputs": [],
   "source": [
    "# dir(builder)"
   ]
  },
  {
   "cell_type": "code",
   "execution_count": 3,
   "metadata": {},
   "outputs": [],
   "source": [
    "builder.add_adsorbates([molecule(x)[0] for x in mols[0]], indices=[0,1])"
   ]
  },
  {
   "cell_type": "code",
   "execution_count": 50,
   "metadata": {},
   "outputs": [
    {
     "name": "stderr",
     "output_type": "stream",
     "text": [
      "/ihome/kjohnson/ska31/.local/lib/python3.9/site-packages/catkit/gen/surface.py:105: UserWarning: Not using a standardized bulk will result in an arbitrary Miller index. To get ensure you are using the correct miller index, use standardize_bulk=True\n",
      "  warnings.warn(\n"
     ]
    },
    {
     "data": {
      "text/plain": [
       "6"
      ]
     },
     "execution_count": 50,
     "metadata": {},
     "output_type": "execute_result"
    }
   ],
   "source": [
    "# Create surface with C2H6 adsorbed\n",
    "bulk_path = '/bgfs/kjohnson/ska31/6AA/reactive_active_learning/TiC-methane-coupling/bulk/structures/TiC.poscar'\n",
    "atoms = read(bulk_path)\n",
    "atoms = atoms.repeat([3,3,1])\n",
    "gen = SlabGenerator(\n",
    "    atoms,\n",
    "    miller_index=(1, 0, 0),\n",
    "    layers=8,\n",
    "    fixed=2,\n",
    "    vacuum=7.5)\n",
    "slab = gen.get_slab().repeat([3,3,1])\n",
    "builder = Builder(slab)\n",
    "len(builder.get_adsorption_edges()) # use only the length of edges"
   ]
  },
  {
   "cell_type": "code",
   "execution_count": 52,
   "metadata": {},
   "outputs": [
    {
     "name": "stdout",
     "output_type": "stream",
     "text": [
      "4\n"
     ]
    }
   ],
   "source": [
    "random_edge = random.randrange(len(builder.get_adsorption_edges()))\n",
    "print(random_edge)"
   ]
  },
  {
   "cell_type": "code",
   "execution_count": 53,
   "metadata": {},
   "outputs": [],
   "source": [
    "a = molecule('C2H6')[0]"
   ]
  },
  {
   "cell_type": "code",
   "execution_count": 54,
   "metadata": {},
   "outputs": [],
   "source": [
    "prod_slab = builder.add_adsorbate(molecule('C2H6')[0], index = -1, bonds=[0])"
   ]
  },
  {
   "cell_type": "code",
   "execution_count": 10,
   "metadata": {},
   "outputs": [],
   "source": [
    "# prod_slab[0].get_chemical_symbols()"
   ]
  },
  {
   "cell_type": "code",
   "execution_count": 70,
   "metadata": {},
   "outputs": [],
   "source": [
    "for i, a in enumerate(prod_slab):\n",
    "    write(f'/bgfs/kjohnson/ska31/6AA/reactive_active_learning/TiC-methane-coupling/reaction/test/c2h6-h-ads-{i}.poscar',a)"
   ]
  },
  {
   "cell_type": "code",
   "execution_count": 71,
   "metadata": {},
   "outputs": [],
   "source": [
    "# write('/bgfs/kjohnson/ska31/6AA/reactive_active_learning/TiC-methane-coupling/reaction/test/c2h6-surf-01.poscar',prod_slab, sort=True)"
   ]
  },
  {
   "cell_type": "code",
   "execution_count": null,
   "metadata": {},
   "outputs": [],
   "source": []
  },
  {
   "cell_type": "code",
   "execution_count": 55,
   "metadata": {},
   "outputs": [
    {
     "name": "stderr",
     "output_type": "stream",
     "text": [
      "2024-06-17 01:39:01.628331: I tensorflow/core/platform/cpu_feature_guard.cc:142] This TensorFlow binary is optimized with oneAPI Deep Neural Network Library (oneDNN) to use the following CPU instructions in performance-critical operations:  SSE4.1 SSE4.2 AVX FMA\n",
      "To enable them in other operations, rebuild TensorFlow with the appropriate compiler flags.\n",
      "2024-06-17 01:39:01.819306: W tensorflow/stream_executor/platform/default/dso_loader.cc:64] Could not load dynamic library 'libcuda.so.1'; dlerror: libcuda.so.1: cannot open shared object file: No such file or directory; LD_LIBRARY_PATH: /opt/rh/httpd24/root/usr/lib64:/opt/rh/rh-nodejs10/root/usr/lib64:/opt/rh/httpd24/root/usr/lib64\n",
      "2024-06-17 01:39:01.819356: W tensorflow/stream_executor/cuda/cuda_driver.cc:326] failed call to cuInit: UNKNOWN ERROR (303)\n",
      "2024-06-17 01:39:01.819389: I tensorflow/stream_executor/cuda/cuda_diagnostics.cc:156] kernel driver does not appear to be running on this host (jupyterhub.crc.pitt.edu): /proc/driver/nvidia/version does not exist\n",
      "2024-06-17 01:39:01.819476: I tensorflow/core/common_runtime/process_util.cc:146] Creating new thread pool with default inter op setting: 2. Tune using inter_op_parallelism_threads for best performance.\n",
      "2024-06-17 01:39:01.872771: I tensorflow/core/platform/profile_utils/cpu_utils.cc:114] CPU Frequency: 2095074999 Hz\n"
     ]
    }
   ],
   "source": [
    "dp_path = '/bgfs/kjohnson/ska31/6AA/reactive_active_learning/TiC-methane-coupling/gen-1/train'\n",
    "for a in prod_slab:\n",
    "    a.calc=DP(model=f'{dp_path}/dp0/graph.pb')"
   ]
  },
  {
   "cell_type": "code",
   "execution_count": 73,
   "metadata": {},
   "outputs": [],
   "source": [
    "# for i, a in enumerate(prod_slab):\n",
    "#     write(f'/bgfs/kjohnson/ska31/6AA/reactive_active_learning/TiC-methane-coupling/reaction/test/rlx-c2h6-h-ads-{i}.poscar',a)"
   ]
  },
  {
   "cell_type": "code",
   "execution_count": 2,
   "metadata": {},
   "outputs": [],
   "source": [
    "for i, a in enumerate(prod_slab):\n",
    "    dyn = BFGS(a)\n",
    "    dyn.run(fmax=1e-6)\n",
    "    write(f'/bgfs/kjohnson/ska31/6AA/reactive_active_learning/TiC-methane-coupling/reaction/test/rlx-c2h6-h-ads-{i}.poscar',a)"
   ]
  },
  {
   "cell_type": "code",
   "execution_count": 20,
   "metadata": {},
   "outputs": [],
   "source": [
    "write('/bgfs/kjohnson/ska31/6AA/reactive_active_learning/TiC-methane-coupling/reaction/test/c2h6-surf-1.poscar',prod_slab)"
   ]
  },
  {
   "cell_type": "code",
   "execution_count": 36,
   "metadata": {},
   "outputs": [],
   "source": [
    "diff = Counter({'C':0,'H':5})\n",
    "a = Counter({'H':1})"
   ]
  },
  {
   "cell_type": "code",
   "execution_count": 39,
   "metadata": {},
   "outputs": [
    {
     "data": {
      "text/plain": [
       "5"
      ]
     },
     "execution_count": 39,
     "metadata": {},
     "output_type": "execute_result"
    }
   ],
   "source": [
    "sum(diff.values())"
   ]
  },
  {
   "cell_type": "code",
   "execution_count": 77,
   "metadata": {},
   "outputs": [
    {
     "data": {
      "text/plain": [
       "[Counter({'C': 2, 'H': 1}),\n",
       " Counter({'C': 1, 'H': 1}),\n",
       " Counter({'C': 1, 'H': 3}),\n",
       " Counter({'C': 2, 'H': 4}),\n",
       " Counter({'C': 1, 'H': 4}),\n",
       " Counter({'C': 2, 'H': 3}),\n",
       " Counter({'C': 2, 'H': 5}),\n",
       " Counter({'C': 2, 'H': 6}),\n",
       " Counter({'C': 2, 'H': 2}),\n",
       " Counter({'C': 1, 'H': 2})]"
      ]
     },
     "execution_count": 77,
     "metadata": {},
     "output_type": "execute_result"
    }
   ],
   "source": [
    "diff = Counter({'C': 1, 'H': 1})\n",
    "[x for x in int_s if diff.keys() == x.keys() and len(diff - a) != 0]"
   ]
  },
  {
   "cell_type": "code",
   "execution_count": 19,
   "metadata": {},
   "outputs": [
    {
     "data": {
      "text/plain": [
       "Counter({'C': 2, 'H': 6})"
      ]
     },
     "execution_count": 19,
     "metadata": {},
     "output_type": "execute_result"
    }
   ],
   "source": [
    "## using int_s, try to solve an equation where a*int_s = c2h6\n",
    "c2h6_sc.diff()"
   ]
  },
  {
   "cell_type": "code",
   "execution_count": 62,
   "metadata": {},
   "outputs": [
    {
     "name": "stdout",
     "output_type": "stream",
     "text": [
      "C2H6 ---> C2H\n",
      "Counter({'C': 2, 'H': 1})\n",
      "Diff:  Counter({'H': 5})\n",
      "C2H6 ---> CH\n",
      "Counter({'C': 1, 'H': 1})\n",
      "Diff:  Counter({'H': 5, 'C': 1})\n",
      "C2H6 ---> CH3\n",
      "Counter({'H': 3, 'C': 1})\n",
      "Diff:  Counter({'H': 3, 'C': 1})\n",
      "C2H6 ---> C2H4\n",
      "Counter({'H': 4, 'C': 2})\n",
      "Diff:  Counter({'H': 2})\n",
      "C2H6 ---> CH4\n",
      "Counter({'H': 4, 'C': 1})\n",
      "Diff:  Counter({'H': 2, 'C': 1})\n",
      "C2H6 ---> C2H3\n",
      "Counter({'H': 3, 'C': 2})\n",
      "Diff:  Counter({'H': 3})\n",
      "C2H6 ---> C2H5\n",
      "Counter({'H': 5, 'C': 2})\n",
      "Diff:  Counter({'H': 1})\n",
      "C2H6 ---> C\n",
      "Counter({'C': 1})\n",
      "Diff:  Counter({'H': 6, 'C': 1})\n",
      "C2H6 ---> H\n",
      "Counter({'H': 1})\n",
      "Diff:  Counter({'H': 5, 'C': 2})\n",
      "C2H6 ---> C2\n",
      "Counter({'C': 2})\n",
      "Diff:  Counter({'H': 6})\n",
      "C2H6 ---> C2H6\n",
      "Counter({'H': 6, 'C': 2})\n",
      "Diff:  Counter()\n",
      "C2H6 ---> H2\n",
      "Counter({'H': 2})\n",
      "Diff:  Counter({'H': 4, 'C': 2})\n",
      "C2H6 ---> C2H2\n",
      "Counter({'C': 2, 'H': 2})\n",
      "Diff:  Counter({'H': 4})\n",
      "C2H6 ---> CH2\n",
      "Counter({'H': 2, 'C': 1})\n",
      "Diff:  Counter({'H': 4, 'C': 1})\n"
     ]
    }
   ],
   "source": [
    "for ins, s, t in zip(int_s, sym, tops):\n",
    "#     int_s = Counter(t[0].get_chemical_symbols()) # get dict of sym with count\n",
    "    print('C2H6 --->', s)\n",
    "    print(ins)\n",
    "    diff_s = c2h6_sc - ins # finding the left over atoms on the surface\n",
    "    print('Diff: ', diff_s)\n",
    "    "
   ]
  },
  {
   "cell_type": "markdown",
   "metadata": {},
   "source": [
    "## Reindexing products based on reactants\n",
    "The adsorbed molecules somehow do not maintain ordering. We would have to figure out a way to ensure that they are reindexed the correct way. Ideas:\n",
    "1.\tFirst isolate all the atoms that compose the final ethane reactant. Get their atomic indices, atomic positions, and symbols. \n",
    "2.\tDo that same for the final product.\n",
    "3.\tGo through each atom of the reactant and find the element of the same species in the product that is geometrically the closest. Reindex the final product accordingly. \n"
   ]
  },
  {
   "cell_type": "markdown",
   "metadata": {},
   "source": [
    "The next attempt is to use the final configurations from \"rlx-c2h6-h-ads-sort-0.poscar\" and all the adsorbed coordinates in \"add_adsorbates/\", take the last 8 atoms (C2H6) and rearange them only. Save these last save atoms into a separate xyz or atoms object. "
   ]
  },
  {
   "cell_type": "code",
   "execution_count": 110,
   "metadata": {},
   "outputs": [
    {
     "data": {
      "text/plain": [
       "(array([[ 1.53139448,  0.8527072 , 15.05874567],\n",
       "        [ 1.53139448,  2.57087403, 15.79746417],\n",
       "        [ 0.7416538 ,  0.24960973, 15.53314593],\n",
       "        [ 2.32113516,  0.24960973, 15.53314593],\n",
       "        [ 1.53139448,  0.34240558, 13.96948238],\n",
       "        [ 1.53139448,  2.35530231, 16.84704825],\n",
       "        [ 0.6362159 ,  3.22420454, 15.67363009],\n",
       "        [ 2.42657306,  3.22420454, 15.67363009]]),\n",
       " ['C', 'C', 'H', 'H', 'H', 'H', 'H', 'H'])"
      ]
     },
     "execution_count": 110,
     "metadata": {},
     "output_type": "execute_result"
    }
   ],
   "source": [
    "conf_path = '/bgfs/kjohnson/ska31/6AA/reactive_active_learning/TiC-methane-coupling/reaction/test'\n",
    "final_add_ads = '/bgfs/kjohnson/ska31/6AA/reactive_active_learning/TiC-methane-coupling/reaction/test/add_adsorbates/'\n",
    "react = f'{conf_path}/rlx-c2h6-h-ads-0.poscar'\n",
    "prods_i = [x for x in os.listdir(f'{conf_path}/add_adsorbates')] \n",
    "reoreder_save = '/bgfs/kjohnson/ska31/6AA/reactive_active_learning/TiC-methane-coupling/reaction/test/add_adsorbates_mol_only_reorder'\n",
    "prods = [f'{conf_path}/add_adsorbates/{x}' for x in os.listdir(f'{conf_path}/add_adsorbates')]\n",
    "r = read(react)\n",
    "r.get_positions()[-8:], r.get_chemical_symbols()[-8:] # these are the last 8 atoms\n",
    "# convert to atoms object (even for products) and use the rearranging code.\n",
    "# we can do an element wise screening "
   ]
  },
  {
   "cell_type": "code",
   "execution_count": 99,
   "metadata": {},
   "outputs": [],
   "source": [
    "def create_atom_from_pos_symb(mol_symb, mol_pos):\n",
    "#     mol_symb = r.get_chemical_symbols()[-8:]\n",
    "#     mol_pos = r.get_positions()[-8:]\n",
    "    symbs = list(dict.fromkeys(mol_symb))\n",
    "    formula = ''.join([f'{symbs[i]}{len([x for x in mol_symb if x == symbs[i]])}' for i in range(len(symbs))])\n",
    "    mol = Atoms(formula)\n",
    "    mol.set_chemical_symbols(mol_symb)\n",
    "    mol.set_positions(mol_pos)\n",
    "    return mol\n",
    "\n",
    "def reorder_atoms(a_atoms, b_atoms):\n",
    "    # Extract atomic symbols and positions\n",
    "    a_symbols = a_atoms.get_chemical_symbols()\n",
    "    b_symbols = b_atoms.get_chemical_symbols()\n",
    "    a_positions = a_atoms.get_positions()\n",
    "    b_positions = b_atoms.get_positions()\n",
    "\n",
    "    # Calculate pairwise distances between atoms in A and B\n",
    "    distances = cdist(a_positions, b_positions)\n",
    "\n",
    "    # Create a mapping from indices of atoms in B to indices of atoms in A\n",
    "    atom_mapping = []\n",
    "    used_b_indices = set()\n",
    "    \n",
    "    for i in range(len(a_atoms)):\n",
    "        # Find the closest unmatched atom in B to the ith atom in A\n",
    "        min_dist_idx_a, min_dist_idx_b = np.unravel_index(np.argmin(distances), distances.shape)\n",
    "        \n",
    "        # Ensure that the atoms have the same species\n",
    "        while b_symbols[min_dist_idx_b] != a_symbols[min_dist_idx_a] or min_dist_idx_b in used_b_indices:\n",
    "            distances[min_dist_idx_a, min_dist_idx_b] = np.inf\n",
    "            min_dist_idx_a, min_dist_idx_b = np.unravel_index(np.argmin(distances), distances.shape)\n",
    "        \n",
    "        atom_mapping.append((min_dist_idx_a, min_dist_idx_b))\n",
    "        used_b_indices.add(min_dist_idx_b)\n",
    "        \n",
    "        distances[min_dist_idx_a, :] = np.inf\n",
    "        distances[:, min_dist_idx_b] = np.inf\n",
    "\n",
    "    # Sort atom_mapping based on the index in A\n",
    "    atom_mapping.sort()\n",
    "\n",
    "    # Rearrange atoms in B based on the mapping\n",
    "    b_reordered_positions = [b_positions[idx_b] for _, idx_b in atom_mapping]\n",
    "    b_reordered_symbols = [b_symbols[idx_b] for _, idx_b in atom_mapping]\n",
    "    \n",
    "    b_reordered = Atoms(symbols=b_reordered_symbols, positions=b_reordered_positions)\n",
    "    \n",
    "    return b_reordered"
   ]
  },
  {
   "cell_type": "code",
   "execution_count": 103,
   "metadata": {},
   "outputs": [],
   "source": [
    "react_mol = create_atom_from_pos_symb(r.get_chemical_symbols()[-8:], r.get_positions()[-8:])\n",
    "write(f'{conf_path}/react_mol.xyz',react_mol)"
   ]
  },
  {
   "cell_type": "code",
   "execution_count": 104,
   "metadata": {},
   "outputs": [],
   "source": [
    "p = read(f'{final_add_ads}/ads-0.poscar')\n",
    "p_mol = create_atom_from_pos_symb(p.get_chemical_symbols()[-8:], p.get_positions()[-8:])\n",
    "write(f'{conf_path}/prod_mol_A.xyz',p_mol)"
   ]
  },
  {
   "cell_type": "code",
   "execution_count": 105,
   "metadata": {},
   "outputs": [],
   "source": [
    "p_ordered = reorder_atoms(react_mol, p_mol)\n",
    "write(f'{conf_path}/prod_mol_B.xyz',p_ordered)\n",
    "# TODO: figure out a way to change the code so that the atoms can reorder propoerly. "
   ]
  },
  {
   "cell_type": "code",
   "execution_count": 115,
   "metadata": {},
   "outputs": [],
   "source": [
    "## final code to reorder all prods. \n",
    "for i, ppath in enumerate(prods):\n",
    "    p = read(ppath)\n",
    "    org_chem_sym = p.get_chemical_symbols()\n",
    "    org_pos = p.get_positions()\n",
    "    p_mol = create_atom_from_pos_symb(org_chem_sym[-8:], org_pos[-8:])\n",
    "    p_ordered = reorder_atoms(react_mol, p_mol)\n",
    "    org_chem_sym[-8:] = p_ordered.get_chemical_symbols()\n",
    "    org_pos[-8:] = p_ordered.get_positions()\n",
    "    p.set_positions(org_pos)\n",
    "    p.set_chemical_symbols(org_chem_sym)\n",
    "    write(f'{reoreder_save}/ads-{i}.poscar', p)"
   ]
  },
  {
   "cell_type": "markdown",
   "metadata": {},
   "source": [
    "The code below is a previous attempt where I sorted all atoms. "
   ]
  },
  {
   "cell_type": "code",
   "execution_count": 58,
   "metadata": {},
   "outputs": [],
   "source": [
    "conf_path = '/bgfs/kjohnson/ska31/6AA/reactive_active_learning/TiC-methane-coupling/reaction/test'\n",
    "final_rearranged_path = '/bgfs/kjohnson/ska31/6AA/reactive_active_learning/TiC-methane-coupling/reaction/test/add_adsorbates_rearranged'\n",
    "# just assuming 1 reactant and multiple products\n",
    "react = f'{conf_path}/rlx-c2h6-h-ads-sort-0.poscar'\n",
    "prods_i = [x for x in os.listdir(f'{conf_path}/add_adsorbates')] \n",
    "prods = [f'{conf_path}/add_adsorbates/{x}' for x in os.listdir(f'{conf_path}/add_adsorbates')]\n",
    "# manually assigning the indices of the adsorbed atoms\n",
    "mol_ind = np.array(sorted([29,27,41,42,43,38,39,40]))\n",
    "ratm = read(react)"
   ]
  },
  {
   "cell_type": "code",
   "execution_count": 57,
   "metadata": {},
   "outputs": [],
   "source": [
    "def get_atom_index(atoms, atom_char):\n",
    "    '''\n",
    "    Takes in Atoms object and returns the indices of where a particular atom is\n",
    "    '''\n",
    "    Element_idx_bool = atoms.symbols==atom_char\n",
    "    Element_idx = [i for i, x in enumerate(Element_idx_bool) if x]\n",
    "    return Element_idx"
   ]
  },
  {
   "cell_type": "code",
   "execution_count": null,
   "metadata": {},
   "outputs": [],
   "source": [
    "\n",
    "# def rearrange_rows(A, B):\n",
    "#     rearranged_B = np.zeros_like(B)\n",
    "#     used_indices = set()  # Keep track of indices already used in B\n",
    "#     distances = cdist(A, B)  # Calculate pairwise distances between A and B\n",
    "    \n",
    "#     for i in range(len(A)):\n",
    "#         min_index = np.argmin(distances[i])  # Find index of the minimum distance\n",
    "#         while min_index in used_indices:  # Check if the index has already been used\n",
    "#             distances[i, min_index] = np.inf  # Mark the distance as infinity\n",
    "#             min_index = np.argmin(distances[i])  # Find the new minimum distance\n",
    "#         rearranged_B[i] = B[min_index]  # Assign the row from B with the minimum distance\n",
    "#         used_indices.add(min_index)  # Add the index to the set of used indices\n",
    "    \n",
    "#     return rearranged_B"
   ]
  },
  {
   "cell_type": "code",
   "execution_count": 22,
   "metadata": {
    "collapsed": true,
    "jupyter": {
     "outputs_hidden": true
    }
   },
   "outputs": [
    {
     "data": {
      "text/plain": [
       "array([[5.31601354, 3.58608422, 0.17320508, 0.24494897, 1.86010752,\n",
       "        5.31601354],\n",
       "       [0.1       , 1.67630546, 5.19807657, 5.13906606, 3.40734501,\n",
       "        0.1       ],\n",
       "       [5.3712196 , 3.64005494, 0.2       , 0.2236068 , 1.91049732,\n",
       "        5.3712196 ],\n",
       "       [0.1       , 1.79164729, 5.31224999, 5.25452186, 3.52278299,\n",
       "        0.1       ],\n",
       "       [3.58608422, 1.86010752, 1.7       , 1.63095064, 0.24494897,\n",
       "        3.58608422],\n",
       "       [1.97484177, 0.31622777, 3.29393382, 3.24037035, 1.51657509,\n",
       "        1.97484177]])"
      ]
     },
     "execution_count": 22,
     "metadata": {},
     "output_type": "execute_result"
    }
   ],
   "source": [
    "A = np.array([[1,1,1],\n",
    "             [2,2,2],\n",
    "              [4,4,4.1],\n",
    "              [4,4,4],\n",
    "             [3,3,3],\n",
    "             [1,1,1]])\n",
    "B = np.array([[4.1, 3.9, 4.2],\n",
    "             [1.1,1.0, 1.0],\n",
    "              [4.2,4,4.1],\n",
    "              [0.9,1,1],\n",
    "             [3.2,3.1,2.9],\n",
    "             [2.0,2.1,2.3]])\n",
    "\n",
    "def rearrange_rows(A, B):\n",
    "    distances = cdist(B, A)  # Calculate pairwise distances between B and A\n",
    "    min_indices = np.argmin(distances, axis=0)  # Find the indices of the minimum distances\n",
    "    rearranged_B = B[min_indices]  # Rearrange rows in B based on minimum distances\n",
    "    print(min_indices)\n",
    "    return rearranged_B\n",
    "\n",
    "\n",
    "# rearrange_rows(A, B)\n",
    "distances = cdist(B, A)  # Calculate pairwise distances between A and B\n",
    "min_indices = np.argmin(distances, axis=0)  # Find the indices of the minimum distances\n",
    "rearranged_B = B[min_indices] \n",
    "rearranged_B\n",
    "distances"
   ]
  },
  {
   "cell_type": "code",
   "execution_count": 39,
   "metadata": {
    "collapsed": true,
    "jupyter": {
     "outputs_hidden": true
    }
   },
   "outputs": [
    {
     "data": {
      "text/plain": [
       "Atoms(symbols='C36H4Ti36', pbc=True, cell=[9.188366883272199, 9.1883668832722, 21.497156531191678])"
      ]
     },
     "execution_count": 39,
     "metadata": {},
     "output_type": "execute_result"
    }
   ],
   "source": [
    "p_reordered.set_cell(patm.cell)\n",
    "p_reordered.set_pbc(True)\n"
   ]
  },
  {
   "cell_type": "code",
   "execution_count": 59,
   "metadata": {},
   "outputs": [],
   "source": [
    "# posCr = ratm.get_positions()[whereCr]\n",
    "# print(posCr)\n",
    "for i, p in enumerate(prods):\n",
    "    patm = read(p)\n",
    "    del patm.constraints\n",
    "    del ratm.constraints\n",
    "    p_reordered = reorder_atoms(ratm, patm)\n",
    "    p_reordered.set_cell(patm.cell)\n",
    "    p_reordered.set_pbc(True)\n",
    "    write(f'{final_rearranged_path}/{prods_i[i]}', p_reordered)\n",
    "    break"
   ]
  },
  {
   "cell_type": "code",
   "execution_count": 87,
   "metadata": {
    "collapsed": true,
    "jupyter": {
     "outputs_hidden": true
    }
   },
   "outputs": [
    {
     "name": "stdout",
     "output_type": "stream",
     "text": [
      "[[ 7.00000000e-16 -1.30000000e-15  7.50000000e+00]\n",
      " [ 6.12557792e+00  3.04685150e+00  1.17964962e+01]\n",
      " [ 3.06278896e+00 -1.30000000e-15  7.50000000e+00]\n",
      " [ 7.65697240e+00  4.59418344e+00  9.66571884e+00]\n",
      " [ 6.12557792e+00  3.06278896e+00  7.50000000e+00]\n",
      " [ 4.59418344e+00  1.53139448e+00  9.66571884e+00]\n",
      " [ 3.03065451e+00  2.51136222e-02  1.18637724e+01]\n",
      " [ 7.64699695e+00  1.51959947e+00  1.40528933e+01]\n",
      " [ 4.60415890e+00  1.51959947e+00  1.40528933e+01]\n",
      " [ 6.12557792e+00 -1.14582622e-04  1.17934560e+01]\n",
      " [ 3.06278896e+00  3.06278896e+00  7.50000000e+00]\n",
      " [ 7.65697240e+00  1.53139448e+00  9.66571884e+00]\n",
      " [ 6.12557792e+00 -1.30000000e-15  7.50000000e+00]\n",
      " [ 4.59418344e+00  4.59418344e+00  9.66571884e+00]\n",
      " [ 3.05069883e+00  3.04359422e+00  1.18208921e+01]\n",
      " [ 4.62043155e+00  7.62108821e+00  1.40471508e+01]\n",
      " [ 4.58795544e+00  4.58762457e+00  1.40311287e+01]\n",
      " [ 3.06605833e+00  6.12876523e+00  1.17730244e+01]\n",
      " [ 1.53139448e+00  7.58463059e+00  1.39025357e+01]\n",
      " [ 7.66320041e+00  4.58762457e+00  1.40311287e+01]\n",
      " [-3.26936902e-03  6.12876523e+00  1.17730244e+01]\n",
      " [ 1.53139448e+00  7.65697240e+00  9.66571884e+00]\n",
      " [ 1.53139448e+00  1.53139448e+00  9.66571884e+00]\n",
      " [ 3.21344486e-02  2.51136222e-02  1.18637724e+01]\n",
      " [ 1.53139448e+00  1.52170722e+00  1.38610085e+01]\n",
      " [ 7.00000000e-16  3.06278896e+00  7.50000000e+00]\n",
      " [ 3.06278896e+00  6.12557792e+00  7.50000000e+00]\n",
      " [ 1.53139448e+00  8.52707200e-01  1.50587457e+01]\n",
      " [ 1.53139448e+00  4.59418344e+00  9.66571884e+00]\n",
      " [ 1.53139448e+00  2.57087403e+00  1.57974642e+01]\n",
      " [ 7.63072430e+00  7.62108821e+00  1.40471508e+01]\n",
      " [ 1.53139448e+00  4.65666658e+00  1.39150141e+01]\n",
      " [ 6.12557792e+00  6.12661780e+00  1.17918731e+01]\n",
      " [ 7.00000000e-16  6.12557792e+00  7.50000000e+00]\n",
      " [ 7.65697240e+00  7.65697240e+00  9.66571884e+00]\n",
      " [ 6.12557792e+00  6.12557792e+00  7.50000000e+00]\n",
      " [ 1.20901302e-02  3.04359422e+00  1.18208921e+01]\n",
      " [ 4.59418344e+00  7.65697240e+00  9.66571884e+00]]\n",
      "/bgfs/kjohnson/ska31/6AA/reactive_active_learning/TiC-methane-coupling/reaction/test/add_adsorbates/ads-0.poscar\n",
      "[[ 7.00000000e-16 -1.30000000e-15  7.50000000e+00]\n",
      " [ 6.12557792e+00  3.06278896e+00  1.18314377e+01]\n",
      " [ 3.06278896e+00 -1.30000000e-15  7.50000000e+00]\n",
      " [ 7.65697240e+00  4.59418344e+00  9.66571884e+00]\n",
      " [ 6.12557792e+00  3.06278896e+00  7.50000000e+00]\n",
      " [ 4.59418344e+00  1.53139448e+00  9.66571884e+00]\n",
      " [ 3.06278896e+00 -9.00000000e-16  1.18314377e+01]\n",
      " [ 7.65697240e+00  1.53139448e+00  1.39971565e+01]\n",
      " [ 4.59418344e+00  1.53139448e+00  1.39971565e+01]\n",
      " [ 6.12557792e+00 -9.00000000e-16  1.18314377e+01]\n",
      " [ 3.06278896e+00  3.06278896e+00  7.50000000e+00]\n",
      " [ 7.65697240e+00  1.53139448e+00  9.66571884e+00]\n",
      " [ 6.12557792e+00 -1.30000000e-15  7.50000000e+00]\n",
      " [ 4.59418344e+00  4.59418344e+00  9.66571884e+00]\n",
      " [ 3.06278896e+00  3.06278896e+00  1.18314377e+01]\n",
      " [ 4.59418344e+00  7.65697240e+00  1.39971565e+01]\n",
      " [ 4.59418344e+00  4.59418344e+00  1.39971565e+01]\n",
      " [ 3.06278896e+00  6.12557792e+00  1.18314377e+01]\n",
      " [ 1.53139448e+00  7.65697240e+00  1.39971565e+01]\n",
      " [ 7.65697240e+00  4.59418344e+00  1.39971565e+01]\n",
      " [ 0.00000000e+00  6.12557792e+00  1.18314377e+01]\n",
      " [ 1.53139448e+00  7.65697240e+00  9.66571884e+00]\n",
      " [ 1.53139448e+00  1.53139448e+00  9.66571884e+00]\n",
      " [ 0.00000000e+00 -9.00000000e-16  1.18314377e+01]\n",
      " [ 1.53139448e+00  1.53139448e+00  1.39971565e+01]\n",
      " [-6.10000000e-15 -1.43308054e+00  1.74837927e+01]\n",
      " [ 7.00000000e-16  3.06278896e+00  7.50000000e+00]\n",
      " [ 3.06278896e+00  6.12557792e+00  7.50000000e+00]\n",
      " [ 1.53139448e+00  4.59418344e+00  9.66571884e+00]\n",
      " [-4.90000000e-15 -3.30000000e-15  1.69771565e+01]\n",
      " [ 7.65697240e+00  7.65697240e+00  1.39971565e+01]\n",
      " [ 1.53139448e+00  4.59418344e+00  1.39971565e+01]\n",
      " [ 6.12557792e+00  6.12557792e+00  1.18314377e+01]\n",
      " [ 7.00000000e-16  6.12557792e+00  7.50000000e+00]\n",
      " [ 7.65697240e+00  7.65697240e+00  9.66571884e+00]\n",
      " [ 6.12557792e+00  6.12557792e+00  7.50000000e+00]\n",
      " [ 0.00000000e+00  3.06278896e+00  1.18314377e+01]\n",
      " [ 4.59418344e+00  7.65697240e+00  9.66571884e+00]]\n",
      "[ 0  1  2  3  4  5  6  7  8  9 10 11 12 13 14 15 16 17 18 19 20 21 22 23\n",
      " 24 26 27 24 28 24 30 31 32 33 34 35 36 37]\n",
      "[[ 7.00000000e-16 -1.30000000e-15  7.50000000e+00]\n",
      " [ 6.12557792e+00  3.06278896e+00  1.18314377e+01]\n",
      " [ 3.06278896e+00 -1.30000000e-15  7.50000000e+00]\n",
      " [ 7.65697240e+00  4.59418344e+00  9.66571884e+00]\n",
      " [ 6.12557792e+00  3.06278896e+00  7.50000000e+00]\n",
      " [ 4.59418344e+00  1.53139448e+00  9.66571884e+00]\n",
      " [ 3.06278896e+00 -9.00000000e-16  1.18314377e+01]\n",
      " [ 7.65697240e+00  1.53139448e+00  1.39971565e+01]\n",
      " [ 4.59418344e+00  1.53139448e+00  1.39971565e+01]\n",
      " [ 6.12557792e+00 -9.00000000e-16  1.18314377e+01]\n",
      " [ 3.06278896e+00  3.06278896e+00  7.50000000e+00]\n",
      " [ 7.65697240e+00  1.53139448e+00  9.66571884e+00]\n",
      " [ 6.12557792e+00 -1.30000000e-15  7.50000000e+00]\n",
      " [ 4.59418344e+00  4.59418344e+00  9.66571884e+00]\n",
      " [ 3.06278896e+00  3.06278896e+00  1.18314377e+01]\n",
      " [ 4.59418344e+00  7.65697240e+00  1.39971565e+01]\n",
      " [ 4.59418344e+00  4.59418344e+00  1.39971565e+01]\n",
      " [ 3.06278896e+00  6.12557792e+00  1.18314377e+01]\n",
      " [ 1.53139448e+00  7.65697240e+00  1.39971565e+01]\n",
      " [ 7.65697240e+00  4.59418344e+00  1.39971565e+01]\n",
      " [ 0.00000000e+00  6.12557792e+00  1.18314377e+01]\n",
      " [ 1.53139448e+00  7.65697240e+00  9.66571884e+00]\n",
      " [ 1.53139448e+00  1.53139448e+00  9.66571884e+00]\n",
      " [ 0.00000000e+00 -9.00000000e-16  1.18314377e+01]\n",
      " [ 1.53139448e+00  1.53139448e+00  1.39971565e+01]\n",
      " [ 7.00000000e-16  3.06278896e+00  7.50000000e+00]\n",
      " [ 3.06278896e+00  6.12557792e+00  7.50000000e+00]\n",
      " [ 1.53139448e+00  1.53139448e+00  1.39971565e+01]\n",
      " [ 1.53139448e+00  4.59418344e+00  9.66571884e+00]\n",
      " [ 1.53139448e+00  1.53139448e+00  1.39971565e+01]\n",
      " [ 7.65697240e+00  7.65697240e+00  1.39971565e+01]\n",
      " [ 1.53139448e+00  4.59418344e+00  1.39971565e+01]\n",
      " [ 6.12557792e+00  6.12557792e+00  1.18314377e+01]\n",
      " [ 7.00000000e-16  6.12557792e+00  7.50000000e+00]\n",
      " [ 7.65697240e+00  7.65697240e+00  9.66571884e+00]\n",
      " [ 6.12557792e+00  6.12557792e+00  7.50000000e+00]\n",
      " [ 0.00000000e+00  3.06278896e+00  1.18314377e+01]\n",
      " [ 4.59418344e+00  7.65697240e+00  9.66571884e+00]]\n"
     ]
    }
   ],
   "source": [
    "# [ratm.get_chemical_symbols()[x] for x in mol_ind]\n",
    "# iterate over each product\n",
    "whereCr = get_atom_index(ratm, 'C')\n",
    "posCr = ratm.get_positions()[whereCr]\n",
    "print(posCr)\n",
    "for i, p in enumerate(prods):\n",
    "    print(p)\n",
    "    patm = read(p)\n",
    "#     print(patm)\n",
    "#     print([patm.get_chemical_symbols()[x] for x in mol_ind])\n",
    "#     print([i for i, z in enumerate(patm.get_chemical_symbols()) if z == 'C'])\n",
    "#     print([i for i, z in enumerate(ratm.get_chemical_symbols()) if z == 'C'])\n",
    "    # compare all the C atoms\n",
    "    pos = patm.get_positions()\n",
    "    whereCp = get_atom_index(patm, 'C')\n",
    "    posCp = patm.get_positions()[whereCp]\n",
    "    print(posCp)\n",
    "    # reassign their indices based on closeness\n",
    "    Cr_rerrange = rearrange_rows(posCr, posCp)\n",
    "    # change the positions of patms with new positions\n",
    "    pos[min(whereCp):max(whereCp)+1] = Cr_rerrange\n",
    "    \n",
    "    # remove constraints - find a way to track the atom indices of the ones that were constrained. \n",
    "#     fixed_atms = patm.constraints \n",
    "    del patm.constraints\n",
    "    print(Cr_rerrange)\n",
    "    patm.set_positions(pos)\n",
    "    # add constraints back\n",
    "    \n",
    "    # The problem is that some of the atoms are being assigned wrongly (or double assigned):\n",
    "    # we need to figure out what the solution for this is.\n",
    "    \n",
    "    \n",
    "    write(f'{final_rearranged_path}/{prods_i[i]}', patm)\n",
    "    break\n"
   ]
  },
  {
   "cell_type": "markdown",
   "metadata": {},
   "source": [
    "## NEB using configurations"
   ]
  },
  {
   "cell_type": "code",
   "execution_count": 120,
   "metadata": {},
   "outputs": [
    {
     "data": {
      "text/plain": [
       "['ads-0.poscar',\n",
       " 'ads-1.poscar',\n",
       " 'ads-10.poscar',\n",
       " 'ads-11.poscar',\n",
       " 'ads-12.poscar',\n",
       " 'ads-13.poscar',\n",
       " 'ads-14.poscar',\n",
       " 'ads-15.poscar',\n",
       " 'ads-16.poscar',\n",
       " 'ads-17.poscar',\n",
       " 'ads-18.poscar',\n",
       " 'ads-19.poscar',\n",
       " 'ads-2.poscar',\n",
       " 'ads-20.poscar',\n",
       " 'ads-21.poscar',\n",
       " 'ads-22.poscar',\n",
       " 'ads-23.poscar',\n",
       " 'ads-24.poscar',\n",
       " 'ads-25.poscar',\n",
       " 'ads-26.poscar',\n",
       " 'ads-27.poscar',\n",
       " 'ads-28.poscar',\n",
       " 'ads-29.poscar',\n",
       " 'ads-3.poscar',\n",
       " 'ads-30.poscar',\n",
       " 'ads-31.poscar',\n",
       " 'ads-32.poscar',\n",
       " 'ads-33.poscar',\n",
       " 'ads-34.poscar',\n",
       " 'ads-35.poscar',\n",
       " 'ads-36.poscar',\n",
       " 'ads-37.poscar',\n",
       " 'ads-38.poscar',\n",
       " 'ads-39.poscar',\n",
       " 'ads-4.poscar',\n",
       " 'ads-40.poscar',\n",
       " 'ads-41.poscar',\n",
       " 'ads-5.poscar',\n",
       " 'ads-6.poscar',\n",
       " 'ads-7.poscar',\n",
       " 'ads-8.poscar',\n",
       " 'ads-9.poscar']"
      ]
     },
     "execution_count": 120,
     "metadata": {},
     "output_type": "execute_result"
    }
   ],
   "source": [
    "prods = sorted([x for x in os.listdir(reoreder_save)])\n",
    "ratm = read(f'{conf_path}/rlx-c2h6-h-ads-0.poscar')\n",
    "for p in prods:\n",
    "    patm = read(f'{reoreder_save}/{p}')\n",
    "    \n",
    "    break"
   ]
  },
  {
   "cell_type": "code",
   "execution_count": 17,
   "metadata": {},
   "outputs": [
    {
     "ename": "NameError",
     "evalue": "name 'md_path_main' is not defined",
     "output_type": "error",
     "traceback": [
      "\u001b[0;31m---------------------------------------------------------------------------\u001b[0m",
      "\u001b[0;31mNameError\u001b[0m                                 Traceback (most recent call last)",
      "Cell \u001b[0;32mIn[17], line 30\u001b[0m\n\u001b[1;32m     27\u001b[0m     fig\u001b[38;5;241m.\u001b[39mtight_layout()\n\u001b[1;32m     28\u001b[0m     \u001b[38;5;28;01mreturn\u001b[39;00m model_dev_list, md_paths\n\u001b[0;32m---> 30\u001b[0m model_dev_list, md_paths \u001b[38;5;241m=\u001b[39m plot_get_model_dev(\u001b[43mmd_path_main\u001b[49m) \u001b[38;5;66;03m# use this to see what the best threshold can be\u001b[39;00m\n",
      "\u001b[0;31mNameError\u001b[0m: name 'md_path_main' is not defined"
     ]
    }
   ],
   "source": [
    "# Relabeling NEB explored configurations\n",
    "# plot the model deviation for energy and forces for each of these simulations\n",
    "\n",
    "# use this \n",
    "neb_path_main = '/bgfs/kjohnson/ska31/6AA/reactive_active_learning/TiC-methane-coupling/reaction/test/neb'\n",
    "# md_path_main = '/bgfs/kjohnson/cvm14/LAMMPS/reactive_AL/gen-0/md'\n",
    "# accepted = np.loadtxt(f'{md_path_main}/accepted.interm',dtype=str)\n",
    "# accepted_md = ['md.'+x.split('.')[0][1:] for x in accepted]\n",
    "# lmp_files = sorted([f'{md_path_main}/struct.packed/'+x for x in os.listdir(f'{md_path_main}/struct.packed') if 'lmp' in x])\n",
    "def plot_get_model_dev(neb_path_main):\n",
    "    neb_paths = sorted([x for x in os.listdir(neb_path_main) if x.startswith('neb')])\n",
    "    # fig, (ax1, ax2) = plt.subplots(1, 2)\n",
    "    # fig.suptitle('Horizontally stacked subplots')\n",
    "    fig, axs = plt.subplots(len(accepted_md)//3 +1, 3, figsize=(16,15)) # 18 plots\n",
    "    model_dev_list = []\n",
    "    # plt.figure(figsize=(20,15))\n",
    "    for i, md in enumerate(md_paths):\n",
    "        a = np.loadtxt(f'{md_path_main}/{md}/model_devi.out')\n",
    "        model_dev_list += [a]\n",
    "#         if 'bulk' in lmp_files[i]: # comment this out\n",
    "#             color = 'r'\n",
    "#         else:\n",
    "        color = 'b' # comment this out\n",
    "        axs[i//3, i%3].plot(a[:,-3],color)\n",
    "        axs[i//3, i%3].set_title(md)\n",
    "        print(f'{md} = {lmp_files[i]}') # change this accordingly \n",
    "    fig.tight_layout()\n",
    "    return model_dev_list, md_paths\n",
    "\n",
    "model_dev_list, md_paths = plot_get_model_dev(neb_path_main) # use this to see what the best threshold can be"
   ]
  },
  {
   "cell_type": "code",
   "execution_count": 29,
   "metadata": {},
   "outputs": [],
   "source": [
    "working_path='/bgfs/kjohnson/ska31/6AA/reactive_active_learning/TiC-methane-coupling/reaction/test/relabel.neb'\n",
    "neb_path = '/bgfs/kjohnson/ska31/6AA/reactive_active_learning/TiC-methane-coupling/reaction/test/neb'\n",
    "# path to the ensemble of DPs - these DPs were used to perform exploration\n",
    "dp_main_path = '/bgfs/kjohnson/ska31/6AA/reactive_active_learning/TiC-methane-coupling/gen-1/train'\n",
    "\n",
    "# path to submit calculations for relabeling\n",
    "#relabel_dir = '/bgfs/kjohnson/ska31/6AA/reactive_active_learning/ANH/gen-3/relabel/level.01/'\n",
    "relabel_dir=working_path\n",
    "\n",
    "# location of all sample VASP files for relabling - you do not need to change these. \n",
    "input_path = sample_vasp = '/bgfs/kjohnson/ska31/6AA/reactive_active_learning/TiC-methane-coupling/sample-vasp'\n",
    "\n",
    "# upper and lower threshold for configuration filtering - these are for max. froce deviation\n",
    "upthresh = 1.0\n",
    "lowthresh = 0.1\n",
    "\n",
    "dp_paths= []\n",
    "for i in range(4):\n",
    "    dp_paths += [DeepPot(f'{dp_main_path}/dp{i}/graph.pb')]\n",
    "\n",
    "structpath = '/bgfs/kjohnson/ska31/6AA/reactive_active_learning/TiC-methane-coupling/reaction/test/'\n",
    "prods = os.listdir(f'{structpath}/add_adsorbates_mol_only_reorder/')\n",
    "\n",
    "total_reactions = len(prods)\n",
    "\n",
    "coord_list = []\n",
    "boxes_list = []\n",
    "atypes_list = []\n",
    "sampled = []\n",
    "\n",
    "for i in range(0,total_reactions):\n",
    "    neb_traj = f'{neb_path}/final_neb/neb_{str(i).zfill(3)}.traj'\n",
    "    coord_rxn = []\n",
    "    box_rxn = []\n",
    "    sampled_rxn = []\n",
    "    get_atype = 1\n",
    "    converged = 1 # write a condition to see if NEB has converged. Change code as needed.\n",
    "    if converged:\n",
    "        box = []\n",
    "        coord = []\n",
    "        pos = read(neb_traj,index=':') \n",
    "        sampled_rxn += [neb_traj]\n",
    "        for l in range(len(pos)):\n",
    "            im = pos[l]\n",
    "            box += [np.array(im.cell).ravel()]\n",
    "            coord += [im.get_positions().ravel()]                \n",
    "            if get_atype:\n",
    "                a=im.get_chemical_symbols()\n",
    "                indexes = np.unique(a, return_index=True)[1]\n",
    "                type_map = [a[index] for index in sorted(indexes)]\n",
    "                type_file = [type_map.index(x) for x in a]\n",
    "                atypes_list += [type_file]\n",
    "                get_atype = 0\n",
    "        if len(coord):\n",
    "            coord_rxn = coord\n",
    "            box_rxn = box\n",
    "            f'{neb_path}/final_neb/neb_{str(i).zfill(3)}.traj'\n",
    "    if len(coord_rxn):\n",
    "        sampled += sampled_rxn\n",
    "        coord_list += [coord_rxn]\n",
    "        boxes_list += [box_rxn]\n",
    "            "
   ]
  },
  {
   "cell_type": "code",
   "execution_count": 3,
   "metadata": {},
   "outputs": [],
   "source": [
    "# np.array(sum(coord_list[0], []))"
   ]
  },
  {
   "cell_type": "code",
   "execution_count": 30,
   "metadata": {},
   "outputs": [],
   "source": [
    "model_dev_i = []\n",
    "energy = []\n",
    "# max_devi_v, min_devi_v, avg_devi_v, max_devi_f, min_devi_f, avg_devi_f\n",
    "for i in range(len(coord_list)):\n",
    "#     coord_i = np.array(sum(coord_list[i], []))\n",
    "    coord_i = np.array(coord_list[i])\n",
    "    # box_i = np.array(sum(coord_rxn[i], []))\n",
    "    box_i = np.array(boxes_list[i])\n",
    "    # b = np.array([[10,0,0,0,10,0,0,0,10]])\n",
    "#     b = box\n",
    "    \n",
    "    if len(coord_i):\n",
    "#         bb = b.repeat(len(coord_i), axis=0)\n",
    "        model_dev_i += [calc_model_devi(coord_i, box_i, atypes_list[i], dp_paths)]\n",
    "        energy += [[dp_paths[j].eval(coord_i, box_i, atypes_list[i])[0] for j in range(4)]]\n",
    "        \n",
    "    if i == 10:\n",
    "        break\n",
    "#     break"
   ]
  },
  {
   "cell_type": "code",
   "execution_count": 31,
   "metadata": {},
   "outputs": [
    {
     "data": {
      "image/png": "[encoded data removed]",
      "text/plain": [
       "<Figure size 640x480 with 1 Axes>"
      ]
     },
     "metadata": {},
     "output_type": "display_data"
    }
   ],
   "source": [
    "filtered_neb = []\n",
    "upthresh = 3.0\n",
    "total_neb_images = []\n",
    "good_neb = []\n",
    "rejected_neb = []\n",
    "for j, mdev in enumerate(model_dev_i):\n",
    "    total_neb_images += [len(mdev[:,-3])]\n",
    "    good_neb += [[i for i,m in enumerate(mdev[:,-3]) if m <= lowthresh]]\n",
    "    filtered_neb+=[[i for i,m in enumerate(mdev[:,-3]) if m > lowthresh and m <= upthresh]]\n",
    "    rejected_neb+=[[i for i,m in enumerate(mdev[:,-3]) if m > upthresh]]\n",
    "    plt.hlines(upthresh, 0,7,'grey',alpha=0.5,linestyles='--')\n",
    "    plt.hlines(lowthresh, 0,7,'grey',alpha=0.5,linestyles='--')\n",
    "    plt.plot(mdev[:,-3],'o',alpha=0.5,label=f'rxn_{j}')\n",
    "plt.title(f'Filtered = {len(sum(filtered_neb,[]))}/{sum(total_neb_images)}')\n",
    "# plt.legend(frameon=False)\n",
    "plt.xlabel('image no.')\n",
    "plt.ylabel('max force dev.')\n",
    "# plt.xlim(-5,150)\n",
    "# plt.ylim(-0.5,11)\n",
    "# plt.savefig('maxforcedev.png',dpi=600)\n",
    "config_number = []"
   ]
  },
  {
   "cell_type": "code",
   "execution_count": 32,
   "metadata": {},
   "outputs": [
    {
     "name": "stdout",
     "output_type": "stream",
     "text": [
      "Filtered = 48/77\n"
     ]
    }
   ],
   "source": [
    "print(f'Filtered = {len(sum(filtered_neb,[]))}/{sum(total_neb_images)}')\n",
    "# config_number\n",
    "# just a list of lists to find the structures that we have filtered out. \n",
    "for rxn in coord_list:\n",
    "    count = 0\n",
    "    config_i = []\n",
    "    for dccomb in rxn:\n",
    "        config_i += [list(np.arange(count, count+len(dccomb)))]\n",
    "        count += len(dccomb)\n",
    "    config_number += [config_i]"
   ]
  },
  {
   "cell_type": "code",
   "execution_count": 34,
   "metadata": {},
   "outputs": [],
   "source": [
    "# filtered_neb\n",
    "# sampled"
   ]
  },
  {
   "cell_type": "code",
   "execution_count": 45,
   "metadata": {},
   "outputs": [],
   "source": [
    "# Function that replaces nth line with a replacement_string. Is used for INCAR\n",
    "# replacing MAGMOM=0 with MAGMOM=NIONS*0\n",
    "def replace_nth_line(file_path, n, replacement_string):\n",
    "    # Read the contents of the file\n",
    "    with open(file_path, 'r') as file:\n",
    "        lines = file.readlines()\n",
    "\n",
    "    # Check if the specified line number is valid\n",
    "    if 1 <= n <= len(lines):\n",
    "        # Replace the nth line with the new string\n",
    "        lines[n] = replacement_string + '\\n'\n",
    "        \n",
    "        os.system(f'mv {file_path} {file_path}.bk')\n",
    "        \n",
    "        # Write the modified content back to the file\n",
    "        with open(file_path, 'w') as file:\n",
    "            file.writelines(lines)\n",
    "        print(f\"Successfully replaced line {n} with: {replacement_string}\")\n",
    "    else:\n",
    "        print(f\"Invalid line number: {n}. The file has {len(lines)} lines.\")\n",
    "        \n",
    "def create_potcar(pos, qm_method, fp_path):\n",
    "#     poscar = sys.argv[1]\n",
    "#     qm_method = sys.argv[2] #eg. potpaw_PBE|\n",
    "    potpath=lambda q,x:f'/ihome/crc/install/intel-2017.1.132/intel-mpi-2017.1.132/vasp/potcars/{q}/{x}/POTCAR'\n",
    "#     pos=read(poscar)\n",
    "    sym=pos.get_chemical_symbols()\n",
    "    sym_un=list(dict.fromkeys(sym))\n",
    "    if 'POTCAR' in os.listdir(fp_path):\n",
    "        os.system(f'rm {fp_path}/POTCAR')\n",
    "    for s in sym_un:\n",
    "        os.system(f'cat {potpath(qm_method,s)} >> {fp_path}/POTCAR')"
   ]
  },
  {
   "cell_type": "code",
   "execution_count": 46,
   "metadata": {},
   "outputs": [
    {
     "name": "stdout",
     "output_type": "stream",
     "text": [
      "0\n",
      "/bgfs/kjohnson/ska31/6AA/reactive_active_learning/TiC-methane-coupling/reaction/test/neb/final_neb/neb_000.traj coord:  0\n",
      "1\n",
      "/bgfs/kjohnson/ska31/6AA/reactive_active_learning/TiC-methane-coupling/reaction/test/neb/final_neb/neb_000.traj coord:  1\n",
      "2\n",
      "/bgfs/kjohnson/ska31/6AA/reactive_active_learning/TiC-methane-coupling/reaction/test/neb/final_neb/neb_000.traj coord:  2\n",
      "3\n",
      "/bgfs/kjohnson/ska31/6AA/reactive_active_learning/TiC-methane-coupling/reaction/test/neb/final_neb/neb_000.traj coord:  3\n",
      "4\n",
      "/bgfs/kjohnson/ska31/6AA/reactive_active_learning/TiC-methane-coupling/reaction/test/neb/final_neb/neb_000.traj coord:  4\n",
      "5\n",
      "/bgfs/kjohnson/ska31/6AA/reactive_active_learning/TiC-methane-coupling/reaction/test/neb/final_neb/neb_000.traj coord:  5\n",
      "6\n",
      "/bgfs/kjohnson/ska31/6AA/reactive_active_learning/TiC-methane-coupling/reaction/test/neb/final_neb/neb_000.traj coord:  6\n",
      "0\n",
      "/bgfs/kjohnson/ska31/6AA/reactive_active_learning/TiC-methane-coupling/reaction/test/neb/final_neb/neb_001.traj coord:  0\n",
      "1\n",
      "/bgfs/kjohnson/ska31/6AA/reactive_active_learning/TiC-methane-coupling/reaction/test/neb/final_neb/neb_001.traj coord:  1\n",
      "2\n",
      "/bgfs/kjohnson/ska31/6AA/reactive_active_learning/TiC-methane-coupling/reaction/test/neb/final_neb/neb_001.traj coord:  2\n",
      "5\n",
      "/bgfs/kjohnson/ska31/6AA/reactive_active_learning/TiC-methane-coupling/reaction/test/neb/final_neb/neb_001.traj coord:  5\n",
      "6\n",
      "/bgfs/kjohnson/ska31/6AA/reactive_active_learning/TiC-methane-coupling/reaction/test/neb/final_neb/neb_001.traj coord:  6\n",
      "0\n",
      "/bgfs/kjohnson/ska31/6AA/reactive_active_learning/TiC-methane-coupling/reaction/test/neb/final_neb/neb_002.traj coord:  0\n",
      "1\n",
      "/bgfs/kjohnson/ska31/6AA/reactive_active_learning/TiC-methane-coupling/reaction/test/neb/final_neb/neb_002.traj coord:  1\n",
      "2\n",
      "/bgfs/kjohnson/ska31/6AA/reactive_active_learning/TiC-methane-coupling/reaction/test/neb/final_neb/neb_002.traj coord:  2\n",
      "3\n",
      "/bgfs/kjohnson/ska31/6AA/reactive_active_learning/TiC-methane-coupling/reaction/test/neb/final_neb/neb_002.traj coord:  3\n",
      "0\n",
      "/bgfs/kjohnson/ska31/6AA/reactive_active_learning/TiC-methane-coupling/reaction/test/neb/final_neb/neb_003.traj coord:  0\n",
      "4\n",
      "/bgfs/kjohnson/ska31/6AA/reactive_active_learning/TiC-methane-coupling/reaction/test/neb/final_neb/neb_003.traj coord:  4\n",
      "5\n",
      "/bgfs/kjohnson/ska31/6AA/reactive_active_learning/TiC-methane-coupling/reaction/test/neb/final_neb/neb_003.traj coord:  5\n",
      "0\n",
      "/bgfs/kjohnson/ska31/6AA/reactive_active_learning/TiC-methane-coupling/reaction/test/neb/final_neb/neb_004.traj coord:  0\n",
      "2\n",
      "/bgfs/kjohnson/ska31/6AA/reactive_active_learning/TiC-methane-coupling/reaction/test/neb/final_neb/neb_004.traj coord:  2\n",
      "3\n",
      "/bgfs/kjohnson/ska31/6AA/reactive_active_learning/TiC-methane-coupling/reaction/test/neb/final_neb/neb_004.traj coord:  3\n",
      "0\n",
      "/bgfs/kjohnson/ska31/6AA/reactive_active_learning/TiC-methane-coupling/reaction/test/neb/final_neb/neb_005.traj coord:  0\n",
      "1\n",
      "/bgfs/kjohnson/ska31/6AA/reactive_active_learning/TiC-methane-coupling/reaction/test/neb/final_neb/neb_005.traj coord:  1\n",
      "2\n",
      "/bgfs/kjohnson/ska31/6AA/reactive_active_learning/TiC-methane-coupling/reaction/test/neb/final_neb/neb_005.traj coord:  2\n",
      "3\n",
      "/bgfs/kjohnson/ska31/6AA/reactive_active_learning/TiC-methane-coupling/reaction/test/neb/final_neb/neb_005.traj coord:  3\n",
      "5\n",
      "/bgfs/kjohnson/ska31/6AA/reactive_active_learning/TiC-methane-coupling/reaction/test/neb/final_neb/neb_005.traj coord:  5\n",
      "6\n",
      "/bgfs/kjohnson/ska31/6AA/reactive_active_learning/TiC-methane-coupling/reaction/test/neb/final_neb/neb_005.traj coord:  6\n",
      "0\n",
      "/bgfs/kjohnson/ska31/6AA/reactive_active_learning/TiC-methane-coupling/reaction/test/neb/final_neb/neb_006.traj coord:  0\n",
      "1\n",
      "/bgfs/kjohnson/ska31/6AA/reactive_active_learning/TiC-methane-coupling/reaction/test/neb/final_neb/neb_006.traj coord:  1\n",
      "0\n",
      "/bgfs/kjohnson/ska31/6AA/reactive_active_learning/TiC-methane-coupling/reaction/test/neb/final_neb/neb_007.traj coord:  0\n",
      "1\n",
      "/bgfs/kjohnson/ska31/6AA/reactive_active_learning/TiC-methane-coupling/reaction/test/neb/final_neb/neb_007.traj coord:  1\n",
      "2\n",
      "/bgfs/kjohnson/ska31/6AA/reactive_active_learning/TiC-methane-coupling/reaction/test/neb/final_neb/neb_007.traj coord:  2\n",
      "3\n",
      "/bgfs/kjohnson/ska31/6AA/reactive_active_learning/TiC-methane-coupling/reaction/test/neb/final_neb/neb_007.traj coord:  3\n",
      "4\n",
      "/bgfs/kjohnson/ska31/6AA/reactive_active_learning/TiC-methane-coupling/reaction/test/neb/final_neb/neb_007.traj coord:  4\n",
      "5\n",
      "/bgfs/kjohnson/ska31/6AA/reactive_active_learning/TiC-methane-coupling/reaction/test/neb/final_neb/neb_007.traj coord:  5\n",
      "0\n",
      "/bgfs/kjohnson/ska31/6AA/reactive_active_learning/TiC-methane-coupling/reaction/test/neb/final_neb/neb_008.traj coord:  0\n",
      "1\n",
      "/bgfs/kjohnson/ska31/6AA/reactive_active_learning/TiC-methane-coupling/reaction/test/neb/final_neb/neb_008.traj coord:  1\n",
      "3\n",
      "/bgfs/kjohnson/ska31/6AA/reactive_active_learning/TiC-methane-coupling/reaction/test/neb/final_neb/neb_008.traj coord:  3\n",
      "5\n",
      "/bgfs/kjohnson/ska31/6AA/reactive_active_learning/TiC-methane-coupling/reaction/test/neb/final_neb/neb_008.traj coord:  5\n",
      "6\n",
      "/bgfs/kjohnson/ska31/6AA/reactive_active_learning/TiC-methane-coupling/reaction/test/neb/final_neb/neb_008.traj coord:  6\n",
      "0\n",
      "/bgfs/kjohnson/ska31/6AA/reactive_active_learning/TiC-methane-coupling/reaction/test/neb/final_neb/neb_009.traj coord:  0\n",
      "1\n",
      "/bgfs/kjohnson/ska31/6AA/reactive_active_learning/TiC-methane-coupling/reaction/test/neb/final_neb/neb_009.traj coord:  1\n",
      "2\n",
      "/bgfs/kjohnson/ska31/6AA/reactive_active_learning/TiC-methane-coupling/reaction/test/neb/final_neb/neb_009.traj coord:  2\n",
      "4\n",
      "/bgfs/kjohnson/ska31/6AA/reactive_active_learning/TiC-methane-coupling/reaction/test/neb/final_neb/neb_009.traj coord:  4\n",
      "0\n",
      "/bgfs/kjohnson/ska31/6AA/reactive_active_learning/TiC-methane-coupling/reaction/test/neb/final_neb/neb_010.traj coord:  0\n",
      "2\n",
      "/bgfs/kjohnson/ska31/6AA/reactive_active_learning/TiC-methane-coupling/reaction/test/neb/final_neb/neb_010.traj coord:  2\n",
      "5\n",
      "/bgfs/kjohnson/ska31/6AA/reactive_active_learning/TiC-methane-coupling/reaction/test/neb/final_neb/neb_010.traj coord:  5\n"
     ]
    }
   ],
   "source": [
    "# totalatoms_cmd = 'awk \\'NR==7{ print; }\\''\n",
    "\n",
    "# preparing jobs for relabeling - write this part\n",
    "for i, rxn in enumerate(filtered_neb):\n",
    "    ci = config_number[i]\n",
    "    count = 0\n",
    "    for f in filtered_neb[i]:\n",
    "        print(f)\n",
    "        rxn_dir = f'{relabel_dir}/neb.{str(i).zfill(2)}'\n",
    "        atom = read(f'{sampled[i]}',index=f)\n",
    "        if f'neb.{str(i).zfill(2)}' not in os.listdir(relabel_dir):\n",
    "            os.mkdir(rxn_dir)\n",
    "        job_c = f'{rxn_dir}/{str(count).zfill(4)}'\n",
    "        if f'{str(count).zfill(4)}' not in os.listdir(rxn_dir):\n",
    "            os.mkdir(job_c)\n",
    "        write(f'{job_c}/POSCAR', atom, sort=True)\n",
    "        os.system(f'cp {input_path}/INCAR.sp {job_c}/INCAR')\n",
    "        os.system(f'cp {input_path}/job.slurm {job_c}/job.slurm')\n",
    "        atoms = read(f'{job_c}/POSCAR')\n",
    "        create_potcar(atoms, 'potpaw_PBE', job_c)\n",
    "        count += 1\n",
    "        print(sampled[i], \"coord: \", f)\n",
    "\n",
    "#                     break\n",
    "#             for ri, row in enumerate(ci):\n",
    "#                 if f in row:\n",
    "#                     rj = row.index(f)\n",
    "                    \n",
    "#                     rxn_dir = f'{relabel_dir}/neb.{str(i).zfill(2)}'\n",
    "#                     if f'neb.{str(i).zfill(2)}' not in os.listdir(relabel_dir):\n",
    "#                         os.mkdir(rxn_dir)\n",
    "#                     job_c = f'{rxn_dir}/{str(count).zfill(4)}'\n",
    "#                     if f'{str(count).zfill(4)}' not in os.listdir(rxn_dir):\n",
    "#                         os.mkdir(job_c)\n",
    "#                     atom = read(f'{}')\n",
    "#                     atom = read(f'{sampled[i][ri]}/opt_converged_000_ase.xyz', index=rj)\n",
    "\n",
    "\n",
    "# #                     totalatoms = len(atom.get_positions())\n",
    "#                     magmom = f'MAGMOM={totalatoms}*0'\n",
    "#                     atom.set_cell([10,10,10])\n",
    "#                     write(f'{job_c}/POSCAR', atom)\n",
    "#                     os.system(f'cp {input_path}/INCAR {job_c}/INCAR')\n",
    "#                     replace_nth_line(f'{job_c}/INCAR', 4, magmom)\n",
    "#                     os.system(f'cp {input_path}/job.slurm {job_c}/job.slurm')\n",
    "#                     os.system(f'cp {input_path}/POTCAR {job_c}/POTCAR')\n",
    "#                     count += 1\n",
    "                    \n",
    "#                     print(sampled[i][ri], \"coord: \", rj)\n",
    "#                     break"
   ]
  },
  {
   "cell_type": "code",
   "execution_count": 39,
   "metadata": {},
   "outputs": [],
   "source": [
    "# atom.get_chemical_symbols()"
   ]
  },
  {
   "cell_type": "markdown",
   "metadata": {},
   "source": [
    "## Scratch work"
   ]
  },
  {
   "cell_type": "code",
   "execution_count": 66,
   "metadata": {},
   "outputs": [
    {
     "name": "stdout",
     "output_type": "stream",
     "text": [
      "[[0.02       3.26173459 3.23340325 1.23285117]\n",
      " [1.25972899 3.2391116  3.23746663 0.025     ]\n",
      " [3.24082164 0.70800551 0.0726439  3.26931531]\n",
      " [3.26209205 0.         0.75293421 3.24366518]]\n",
      "['N', 'N', 'H', 'H']\n",
      "[array([-3.16764,  0.73976, -0.77887]), array([-2.58309, -0.2656 , -1.23416]), array([-0.9    ,  0.29052,  1.48574]), array([-0.44728,  0.67146,  1.02008])]\n"
     ]
    }
   ],
   "source": [
    "import numpy as np\n",
    "from ase.io import read, write\n",
    "from scipy.spatial.distance import cdist\n",
    "from ase.geometry import get_distances\n",
    "\n",
    "def reorder_atoms(a_atoms, b_atoms):\n",
    "    # Extract atomic symbols and positions\n",
    "    a_symbols = a_atoms.get_chemical_symbols()\n",
    "    b_symbols = b_atoms.get_chemical_symbols()\n",
    "    a_positions = a_atoms.get_positions()\n",
    "    b_positions = b_atoms.get_positions()\n",
    "#     print(a_atoms)\n",
    "\n",
    "    # Calculate pairwise distances between atoms in A and B\n",
    "#     distances = cdist(a_positions, b_positions)\n",
    "#     print(distances.shape)\n",
    "    distances = get_distances(a_positions, b_positions, cell=a_atoms.cell, pbc=False)[1]\n",
    "    print(distances)\n",
    "#     print(distances[0].shape, distances[1].shape)\n",
    "\n",
    "    # Create a mapping from indices of atoms in B to indices of atoms in A\n",
    "    atom_mapping = []\n",
    "    for i in range(len(a_atoms)):\n",
    "        # Find the closest unmatched atom in B to the ith atom in A\n",
    "        min_dist_idx = np.argmin(distances)\n",
    "        min_dist_idx_a, min_dist_idx_b = np.unravel_index(min_dist_idx, distances.shape)\n",
    "        # Ensure that the atoms have the same species\n",
    "        if a_symbols[min_dist_idx_a] == b_symbols[min_dist_idx_b]:\n",
    "            atom_mapping.append((min_dist_idx_a, min_dist_idx_b))\n",
    "        distances[min_dist_idx_a, :] = np.inf\n",
    "        distances[:, min_dist_idx_b] = np.inf\n",
    "\n",
    "    # Rearrange atoms in B based on the mapping\n",
    "    b_reordered_positions = [b_positions[idx_b] for _, idx_b in sorted(atom_mapping, key=lambda x: x[0])]\n",
    "    b_reordered_symbols = [b_symbols[idx_b] for _, idx_b in sorted(atom_mapping, key=lambda x: x[0])]\n",
    "    b_reordered = Atoms(symbols=b_reordered_symbols, positions=b_reordered_positions)\n",
    "    print(b_reordered_symbols)\n",
    "    print(b_reordered_positions)\n",
    "    return b_reordered\n",
    "\n",
    "# Read A.xyz and B.xyz files\n",
    "a_atoms = read('n2-h2.xyz')\n",
    "b_atoms = read('n2-h2_B.xyz')\n",
    "\n",
    "# Reorder atoms in B to match A\n",
    "b_reordered = reorder_atoms(a_atoms, b_atoms)\n",
    "\n",
    "# Write the reordered structure to a new XYZ file\n",
    "# write('B_reordered.xyz', b_reordered)\n"
   ]
  },
  {
   "cell_type": "code",
   "execution_count": null,
   "metadata": {},
   "outputs": [],
   "source": [
    "# posCr = ratm.get_positions()[whereCr]\n",
    "# print(posCr)\n",
    "for i, p in enumerate(prods):\n",
    "    patm = read(p)\n",
    "    del patm.constraints\n",
    "    del ratm.constraints\n",
    "    p_reordered = reorder_atoms(ratm, patm)\n",
    "    p_reordered.set_cell(patm.cell)\n",
    "    p_reordered.set_pbc(True)\n",
    "    write(f'{final_rearranged_path}/{prods_i[i]}', p_reordered)\n",
    "    break"
   ]
  },
  {
   "cell_type": "code",
   "execution_count": 24,
   "metadata": {},
   "outputs": [
    {
     "name": "stdout",
     "output_type": "stream",
     "text": [
      "['N', 'N', 'H', 'H']\n",
      "[array([-3.16764,  0.73976, -0.77887]), array([-2.58309, -0.2656 , -1.23416]), array([-0.9    ,  0.29052,  1.48574]), array([-0.44728,  0.67146,  1.02008])]\n"
     ]
    }
   ],
   "source": [
    "import numpy as np\n",
    "from ase.io import read, write\n",
    "from scipy.spatial.distance import cdist\n",
    "\n",
    "def reorder_atoms(a_atoms, b_atoms):\n",
    "    # Extract atomic symbols and positions\n",
    "    a_symbols = a_atoms.get_chemical_symbols()\n",
    "    b_symbols = b_atoms.get_chemical_symbols()\n",
    "    a_positions = a_atoms.get_positions()\n",
    "    b_positions = b_atoms.get_positions()\n",
    "\n",
    "    # Calculate pairwise distances between atoms in A and B\n",
    "    distances = cdist(a_positions, b_positions)\n",
    "\n",
    "    # Create a mapping from indices of atoms in B to indices of atoms in A\n",
    "    atom_mapping = []\n",
    "    for i in range(len(a_atoms)):\n",
    "        # Find the closest unmatched atom in B to the ith atom in A\n",
    "        min_dist_idx = np.argmin(distances)\n",
    "        min_dist_idx_a, min_dist_idx_b = np.unravel_index(min_dist_idx, distances.shape)\n",
    "        # Ensure that the atoms have the same species\n",
    "        if a_symbols[min_dist_idx_a] == b_symbols[min_dist_idx_b]:\n",
    "            atom_mapping.append((min_dist_idx_a, min_dist_idx_b))\n",
    "        distances[min_dist_idx_a, :] = np.inf\n",
    "        distances[:, min_dist_idx_b] = np.inf\n",
    "\n",
    "    # Sort atom_mapping based on the index in A\n",
    "    atom_mapping.sort()\n",
    "\n",
    "    # Rearrange atoms in B based on the mapping\n",
    "    b_reordered_positions = [b_positions[idx_b] for _, idx_b in atom_mapping]\n",
    "    b_reordered_symbols = [b_symbols[idx_b] for _, idx_b in atom_mapping]\n",
    "    b_reordered = Atoms(symbols=b_reordered_symbols, positions=b_reordered_positions)\n",
    "    print(b_reordered_symbols)\n",
    "    print(b_reordered_positions)\n",
    "    return b_reordered\n",
    "\n",
    "# Read A.xyz and B.xyz files\n",
    "a_atoms = read('n2-h2.xyz')\n",
    "b_atoms = read('n2-h2_B.xyz')\n",
    "\n",
    "# Reorder atoms in B to match A\n",
    "b_reordered = reorder_atoms(a_atoms, b_atoms)\n",
    "\n",
    "# Write the reordered structure to a new XYZ file\n",
    "# write('B_reordered.xyz', b_reordered)\n"
   ]
  },
  {
   "cell_type": "code",
   "execution_count": 2,
   "metadata": {},
   "outputs": [],
   "source": [
    "# purpose of this python notebook is to make use of catkit to generate intermediates\n",
    "a = read('/bgfs/kjohnson/ska31/6AA/reactive_active_learning/TiC-methane-coupling/molecule/ethane.db')"
   ]
  },
  {
   "cell_type": "code",
   "execution_count": 17,
   "metadata": {},
   "outputs": [],
   "source": [
    "db_name = '/bgfs/kjohnson/ska31/6AA/reactive_active_learning/TiC-methane-coupling/molecule/ethane.db'\n",
    "with ReactionNetwork(db_name=db_name) as rn:\n",
    "    # Run a molecule search\n",
    "    rn.molecule_search(\n",
    "        element_pool={'C': 2, 'H': 6},\n",
    "        multiple_bond_search=False)\n",
    "\n",
    "    \n",
    "#     a = rn.load_3d_structures(0)\n",
    "\n",
    "# print('Process completed in {:.1f}s'.format(time.time() - start))"
   ]
  },
  {
   "cell_type": "code",
   "execution_count": 18,
   "metadata": {},
   "outputs": [
    {
     "data": {
      "text/plain": [
       "<module 'catkit.gen.molecules' from '/ihome/kjohnson/ska31/.local/lib/python3.9/site-packages/catkit/gen/molecules.py'>"
      ]
     },
     "execution_count": 18,
     "metadata": {},
     "output_type": "execute_result"
    }
   ],
   "source": [
    "molecules"
   ]
  },
  {
   "cell_type": "code",
   "execution_count": 5,
   "metadata": {},
   "outputs": [],
   "source": [
    "# rn = ReactionNetwork(db_name)\n",
    "# rn.molecule_search(\n",
    "#     element_pool={'C': 2, 'H': 6},\n",
    "#     multiple_bond_search=False)"
   ]
  },
  {
   "cell_type": "code",
   "execution_count": null,
   "metadata": {},
   "outputs": [],
   "source": []
  },
  {
   "cell_type": "code",
   "execution_count": 49,
   "metadata": {},
   "outputs": [
    {
     "data": {
      "text/plain": [
       "Gratoms(symbols='C2H3', pbc=False, cell=[1.0, 1.0, 1.0])"
      ]
     },
     "execution_count": 49,
     "metadata": {},
     "output_type": "execute_result"
    }
   ],
   "source": [
    "s = molecules.get_topologies('HCHCH')\n",
    "a = molecules.get_3D_positions(s[0])\n",
    "a"
   ]
  },
  {
   "cell_type": "code",
   "execution_count": 52,
   "metadata": {},
   "outputs": [
    {
     "data": {
      "text/plain": [
       "(array([1.52]), ['C', 'C', 'H', 'H', 'H'])"
      ]
     },
     "execution_count": 52,
     "metadata": {},
     "output_type": "execute_result"
    }
   ],
   "source": [
    "a.get_distances(0,1), a.get_chemical_symbols()"
   ]
  },
  {
   "cell_type": "code",
   "execution_count": 42,
   "metadata": {},
   "outputs": [],
   "source": [
    "with ReactionNetwork(db_name=db_name) as rn:\n",
    "\n",
    "    # Run a molecule search\n",
    "    rn.molecule_search(\n",
    "        element_pool={'C': 2, 'H': 6},\n",
    "        multiple_bond_search=False)\n",
    "\n",
    "with ReactionNetwork(db_name=db_name) as rn:\n",
    "    # Substitution pathway search is expensive!\n",
    "    rn.path_search(\n",
    "        reconfiguration=False,\n",
    "        substitution=False)\n",
    "\n",
    "#     rn.plot_reaction_network(file_name='reaction-network.png')\n",
    "\n",
    "with ReactionNetwork(db_name=db_name) as rn:\n",
    "    molecules_list = rn.load_molecules()\n",
    "    pathways_list = rn.load_pathways()\n",
    "\n",
    "# names = np.empty(len(molecules_list) + 1, dtype='a5')\n",
    "\n",
    "# for k, v in molecules_list.items():\n",
    "#     atn = nx.get_node_attributes(v.graph, 'number')\n",
    "\n",
    "#     # These are not always unique identifiers\n",
    "#     hill = formula_hill(list(atn.values()))\n",
    "#     names[k] = hill\n",
    "\n",
    "# print('|Reactants|Products|')\n",
    "# print('|-')\n",
    "# for path in pathways:\n",
    "#     print('|{} + {} | {} |'.format(\n",
    "#         names[path][0].decode(\"utf-8\"),\n",
    "#         names[path][1].decode(\"utf-8\"),\n",
    "#         names[path][3].decode(\"utf-8\")))"
   ]
  },
  {
   "cell_type": "code",
   "execution_count": 70,
   "metadata": {},
   "outputs": [],
   "source": [
    "all_symbols = []\n",
    "for k, v in molecules_list.items():\n",
    "    all_symbols += [v.get_chemical_formula()]"
   ]
  },
  {
   "cell_type": "code",
   "execution_count": 114,
   "metadata": {},
   "outputs": [],
   "source": [
    "# unique_symbols = list(set(all_symbols))\n",
    "# tops = [molecules.get_topologies(x) for x in unique_symbols]\n",
    "# molecules.get_3D_positions(tops[4])\n",
    "# , molecules.get_3D_positions(tops[4][1]).get_positions()"
   ]
  },
  {
   "cell_type": "code",
   "execution_count": 113,
   "metadata": {},
   "outputs": [],
   "source": [
    "save_path = '/bgfs/kjohnson/ska31/6AA/reactive_active_learning/TiC-methane-coupling/molecule/intermediates'\n",
    "for s, t in zip(unique_symbols, tops):\n",
    "    grat = [molecules.get_3D_positions(x) for x in t]\n",
    "    for i, g in enumerate(grat):\n",
    "        write(f'{save_path}/{s}.{str(i).zfill(2)}.xyz', g)"
   ]
  },
  {
   "cell_type": "code",
   "execution_count": 73,
   "metadata": {},
   "outputs": [
    {
     "data": {
      "text/plain": [
       "[Gratoms(symbols='H', pbc=False)]"
      ]
     },
     "execution_count": 73,
     "metadata": {},
     "output_type": "execute_result"
    }
   ],
   "source": [
    "molecules.get_topologies(all_symbols[0])"
   ]
  },
  {
   "cell_type": "code",
   "execution_count": 25,
   "metadata": {},
   "outputs": [],
   "source": [
    "with ReactionNetwork(db_name=db_name) as rn:\n",
    "\n",
    "    # Run a molecule search\n",
    "    rn.molecule_search(\n",
    "        element_pool={'C': 2, 'H': 6},\n",
    "        multiple_bond_search=False)\n",
    "    rn.save_3d_structure"
   ]
  },
  {
   "cell_type": "code",
   "execution_count": 27,
   "metadata": {},
   "outputs": [],
   "source": [
    "b = connect(db_name)"
   ]
  },
  {
   "cell_type": "code",
   "execution_count": 42,
   "metadata": {},
   "outputs": [],
   "source": [
    "# dir(b)"
   ]
  },
  {
   "cell_type": "code",
   "execution_count": null,
   "metadata": {},
   "outputs": [],
   "source": []
  }
 ],
 "metadata": {
  "kernelspec": {
   "display_name": "deepmdGPU",
   "language": "python",
   "name": "deepmdgpu"
  },
  "language_info": {
   "codemirror_mode": {
    "name": "ipython",
    "version": 3
   },
   "file_extension": ".py",
   "mimetype": "text/x-python",
   "name": "python",
   "nbconvert_exporter": "python",
   "pygments_lexer": "ipython3",
   "version": "3.9.7"
  }
 },
 "nbformat": 4,
 "nbformat_minor": 4
}
